{
 "cells": [
  {
   "cell_type": "markdown",
   "metadata": {},
   "source": [
    "Je kunt de vraag veranderen\n",
    "\n",
    "Kies dan voor \"Clear All Outputs\" en \"Run All\" om het hele RAG pattern te doorlopen\n",
    "met een nieuwe vraag."
   ]
  },
  {
   "cell_type": "code",
   "execution_count": 57,
   "metadata": {},
   "outputs": [],
   "source": [
    "myDataQuestion = \"Wie is Remco?\""
   ]
  },
  {
   "cell_type": "code",
   "execution_count": 58,
   "metadata": {},
   "outputs": [
    {
     "name": "stdout",
     "output_type": "stream",
     "text": [
      "*** init done! ***\n"
     ]
    }
   ],
   "source": [
    "#inititalize the notebook\n",
    "import os\n",
    "import textwrap\n",
    "import pymongo\n",
    "from dotenv import load_dotenv\n",
    "from openai import AzureOpenAI\n",
    "\n",
    "load_dotenv()\n",
    "\n",
    "openai_client = AzureOpenAI(\n",
    "    api_key = os.getenv(\"AZURE_OPENAI_API_KEY\"),\n",
    "    api_version = os.getenv(\"OPENAI_API_VERSION\"),\n",
    "    azure_endpoint = os.getenv(\"AZURE_OPENAI_API_BASE\")\n",
    ")\n",
    "\n",
    "mongo_user = os.getenv(\"COSMOS_MONGO_USER\")\n",
    "mongo_pwd = os.getenv(\"COSMOS_MONGO_PWD\")\n",
    "mongo_server = os.getenv(\"COSMOS_MONGO_SERVER\")\n",
    "mongo_conn = f\"mongodb+srv://{mongo_user}:{mongo_pwd}@{mongo_server}?tls=true&authMechanism=SCRAM-SHA-256&retrywrites=false&maxIdleTimeMS=120000\"\n",
    "\n",
    "\n",
    "embeddings_deployment_name = \"text-embedding-ada-002\"\n",
    "chat_deployment_name = \"gpt-4\"\n",
    "\n",
    "databaseName = \"hszuyd\"\n",
    "collectionName = \"webpagecollection\"\n",
    "\n",
    "mongo_client = pymongo.MongoClient(mongo_conn)\n",
    "db = mongo_client[databaseName]\n",
    "collection = db[collectionName]\n",
    "\n",
    "print(\"*** init done! ***\")\n"
   ]
  },
  {
   "cell_type": "markdown",
   "metadata": {},
   "source": [
    "RETRIEVE"
   ]
  },
  {
   "cell_type": "code",
   "execution_count": 59,
   "metadata": {},
   "outputs": [
    {
     "name": "stdout",
     "output_type": "stream",
     "text": [
      "De top 3 resultaten zijn: \n",
      "remco.md - 0.8620635620470014\n",
      "hbo-ict-1.md - 0.7790297332317446\n",
      "hbo-ict-0.md - 0.7790163027654221\n"
     ]
    }
   ],
   "source": [
    "def vector_search(vector, num_results=3):\n",
    "    pipeline = [\n",
    "        {\n",
    "            '$search': {\n",
    "                \"cosmosSearch\": {\n",
    "                    \"vector\": vector,\n",
    "                    \"path\": \"contentVector\",\n",
    "                    \"k\": num_results \n",
    "                },\n",
    "                \"returnStoredSource\": True }},\n",
    "        {'$project': { 'similarityScore': { '$meta': 'searchScore' }, 'document' : '$$ROOT' } }\n",
    "    ]\n",
    "    results = collection.aggregate(pipeline)\n",
    "    return results\n",
    "\n",
    "\n",
    "#create an embedding for the question we want to compare\n",
    "questionEmbedding = openai_client.embeddings.create(input = myDataQuestion, model=embeddings_deployment_name).data[0].embedding\n",
    "\n",
    "#zoek relevante pagina's op basis van de vraag\n",
    "results = vector_search(questionEmbedding, 3)\n",
    "\n",
    "retrievedData = []\n",
    "print(\"De top 3 resultaten zijn: \")\n",
    "for result in results:\n",
    "    retrievedData.append({\"role\": \"user\", \"content\": \"## data \" + result[\"document\"][\"content\"]})\n",
    "    print(result[\"document\"][\"filename\"] + \" - \" + str(result[\"similarityScore\"]))\n"
   ]
  },
  {
   "cell_type": "markdown",
   "metadata": {},
   "source": [
    "AUGMENT"
   ]
  },
  {
   "cell_type": "code",
   "execution_count": 60,
   "metadata": {},
   "outputs": [
    {
     "data": {
      "text/plain": [
       "[{'role': 'user', 'content': 'Wie is Remco?'},\n",
       " {'role': 'system',\n",
       "  'content': '\\n            Je bent een behulpzame assistent\\n            Je geeft alleen antwoord op basis van de data die je hebt gekregen\\n            Indien je het antwoord niet kunt vinden, \\n            zeg je dat je het antwoord niet weet\\n        '},\n",
       " {'role': 'user',\n",
       "  'content': '## data Wie is Remco Brosky?\\n\\nRemco Brosky is Senior Cloud Solution Architect bij Microsoft. Hij is onderdeel van de Customer Succes Unit in Nederland in het domein \"Digital and Application Innovation\". Hij werkt dagelijks met klanten op het gebied van Cloud Native Application Development, Developer Experience en het Development Process.\\nDenk hierbij aan Best practices rondom het gebruik van Microsoft Azure, Generative AI, Github, Azure DevOps en diverse development diensten zoals Kubernetes en App Services. \\nHij heeft een achtergrond in software engineering en architecture en is een Microsoft Certified Trainer.'},\n",
       " {'role': 'user',\n",
       "  'content': '## data 1. Home\\n2. Opleidingen\\n3. Hbo-ict  \\nTijdens de HBO-ICT opleiding leer je over alles wat met ICT te maken heeft,\\nzoals slimme apps waarmee je de tv en de thermostaat bedient. Software op\\nbasis van grote hoeveelheden data patronen herkent en analyseert. Denk\\nbijvoorbeeld aan de filmsuggesties van Netflix. Of je adviseert bijvoorbeeld\\nook bedrijven over de meest moderne ICT oplossingen.  \\n* Locatie Heerlen\\n* Duur 4 jaar, start in september\\n* Taal Nederlands'},\n",
       " {'role': 'user',\n",
       "  'content': '## data Waar ben je naar op zoek?  \\nTaal:  \\n*   *   *  \\n* Voor bedrijven\\n* Stages en afstuderen\\n* Projecten en opdrachten\\n* Zuyd Labs\\n* Vacatures en bijbanen\\n* Opleiden van uw personeel\\n* Carrière-event\\n* Mijn account\\n* Contact\\n* Alumni\\n* Over Zuyd\\n* Organisatie en beleid\\n* Academies\\n* Succesvol studeren\\n* Onderwijs en kwaliteit\\n* Sterk Teamwerk\\n* STERKplaats Heerlen\\n* Duurzaamheid\\n* Werken bij Zuyd\\n* Pers en media\\n* Nieuws\\n* Agenda\\n* Contact\\n* Heerlen\\n* Maastricht\\n* Sittard\\n* Zuydnet  \\nTaal:  \\n*   *   *  \\n* Opleidingen\\n* Open dagen\\n* Studeren bij Zuyd\\n* Hulp bij studiekeuze\\n* Inschrijven\\n* Collegegeld\\n* Sneller je diploma\\n* Cursussen en minoren\\n* Studiefaciliteiten\\n* Van mbo naar hbo\\n* Van vwo naar hbo\\n* Decanen en mentoren\\n* Info voor ouders\\n* Onderzoek\\n* Lectoraten\\n* Centres of expertise\\n* Transitie\\n* Wat heeft onze regio nodig?\\n* Podcasts\\n* Interview\\n* Waardevolle Wijken\\n* Gezonde Samenleving\\n* Circulair Produceren\\n* Toekomstbestendig Bedrijfsleven\\n* Wetenschappelijke integriteit\\n* Werken en leren  \\nHBO-ICT  \\nHBO-ICT  \\n* Introductie\\n* Over de opleiding\\n* Studieopbouw\\n* Toelatingseisen\\n* Beroep\\n* Contact\\n* Interesse?  \\n* Schrijf je in voor de opleiding\\n* Bezoek een open dag\\n* Download de opleidingsbrochure ICT\\n* Maak je profielwerkstuk bij ons\\n* Houd mij op de hoogte\\n* Mail onze studieadviseur'}]"
      ]
     },
     "execution_count": 60,
     "metadata": {},
     "output_type": "execute_result"
    }
   ],
   "source": [
    "messages = [\n",
    "    {\n",
    "        \"role\": \"user\",\n",
    "        \"content\": myDataQuestion\n",
    "    },\n",
    "    {\n",
    "        \"role\": \"system\",\n",
    "        \"content\" : f\"\"\"\n",
    "            Je bent een behulpzame assistent\n",
    "            Je geeft alleen antwoord op basis van de data die je hebt gekregen\n",
    "            Indien je het antwoord niet kunt vinden, \n",
    "            zeg je dat je het antwoord niet weet\n",
    "        \"\"\"\n",
    "    }\n",
    "]\n",
    "\n",
    "messages.extend(retrievedData)\n",
    "\n",
    "messages\n",
    "\n",
    "\n"
   ]
  },
  {
   "cell_type": "markdown",
   "metadata": {},
   "source": [
    "GENERATE"
   ]
  },
  {
   "cell_type": "code",
   "execution_count": 61,
   "metadata": {},
   "outputs": [
    {
     "name": "stdout",
     "output_type": "stream",
     "text": [
      "Remco Brosky is een Senior Cloud Solution Architect bij Microsoft. Hij maakt\n",
      "deel uit van de Customer Succes Unit in Nederland in het domein \"Digital and\n",
      "Application Innovation\". Zijn dagelijkse werkzaamheden omvatten het werken met\n",
      "klanten op het gebied van Cloud Native Application Development, Developer\n",
      "Experience en het Development Process. Hij is gespecialiseerd in best practices\n",
      "rondom het gebruik van Microsoft Azure, Generative AI, Github, Azure DevOps en\n",
      "diverse development diensten zoals Kubernetes en App Services. Remco heeft een\n",
      "achtergrond in software engineering en architectuur en is een Microsoft\n",
      "Certified Trainer.\n"
     ]
    }
   ],
   "source": [
    "myDataResponse = openai_client.chat.completions.create(\n",
    "    model = chat_deployment_name,\n",
    "    temperature=0.0,\n",
    "    messages=messages\n",
    "    )\n",
    "\n",
    "lines = textwrap.wrap(myDataResponse.choices[0].message.content, width=80)\n",
    "for line in lines:\n",
    "    print(line)\n",
    "\n",
    "\n",
    "\n"
   ]
  }
 ],
 "metadata": {
  "kernelspec": {
   "display_name": ".venv",
   "language": "python",
   "name": "python3"
  },
  "language_info": {
   "codemirror_mode": {
    "name": "ipython",
    "version": 3
   },
   "file_extension": ".py",
   "mimetype": "text/x-python",
   "name": "python",
   "nbconvert_exporter": "python",
   "pygments_lexer": "ipython3",
   "version": "3.11.6"
  }
 },
 "nbformat": 4,
 "nbformat_minor": 2
}
