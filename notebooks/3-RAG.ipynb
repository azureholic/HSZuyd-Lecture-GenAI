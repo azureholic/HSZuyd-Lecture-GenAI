{
 "cells": [
  {
   "cell_type": "markdown",
   "metadata": {},
   "source": [
    "Je kunt de vraag veranderen\n",
    "\n",
    "Kies dan voor \"Clear All Outputs\" en \"Run All\" om het hele RAG pattern te doorlopen\n",
    "met een nieuwe vraag."
   ]
  },
  {
   "cell_type": "code",
   "execution_count": 1,
   "metadata": {},
   "outputs": [],
   "source": [
    "myDataQuestion = \"Wanneer is de open dag?\""
   ]
  },
  {
   "cell_type": "code",
   "execution_count": 2,
   "metadata": {},
   "outputs": [
    {
     "name": "stdout",
     "output_type": "stream",
     "text": [
      "*** init done! ***\n"
     ]
    }
   ],
   "source": [
    "#inititalize the notebook\n",
    "import os\n",
    "import textwrap\n",
    "import pymongo\n",
    "import json\n",
    "from dotenv import load_dotenv\n",
    "from openai import AzureOpenAI\n",
    "\n",
    "load_dotenv()\n",
    "\n",
    "openai_client = AzureOpenAI(\n",
    "    api_key = os.getenv(\"AZURE_OPENAI_API_KEY\"),\n",
    "    api_version = os.getenv(\"OPENAI_API_VERSION\"),\n",
    "    azure_endpoint = os.getenv(\"AZURE_OPENAI_API_BASE\")\n",
    ")\n",
    "\n",
    "mongo_user = os.getenv(\"COSMOS_MONGO_USER\")\n",
    "mongo_pwd = os.getenv(\"COSMOS_MONGO_PWD\")\n",
    "mongo_server = os.getenv(\"COSMOS_MONGO_SERVER\")\n",
    "mongo_conn = f\"mongodb+srv://{mongo_user}:{mongo_pwd}@{mongo_server}?tls=true&authMechanism=SCRAM-SHA-256&retrywrites=false&maxIdleTimeMS=120000\"\n",
    "\n",
    "\n",
    "embeddings_deployment_name = \"text-embedding-ada-002\"\n",
    "chat_deployment_name = \"gpt-4\"\n",
    "\n",
    "databaseName = \"hszuyd\"\n",
    "collectionName = \"webpagecollection\"\n",
    "\n",
    "mongo_client = pymongo.MongoClient(mongo_conn)\n",
    "db = mongo_client[databaseName]\n",
    "collection = db[collectionName]\n",
    "\n",
    "print(\"*** init done! ***\")\n"
   ]
  },
  {
   "cell_type": "markdown",
   "metadata": {},
   "source": [
    "RETRIEVE"
   ]
  },
  {
   "cell_type": "code",
   "execution_count": 3,
   "metadata": {},
   "outputs": [
    {
     "name": "stdout",
     "output_type": "stream",
     "text": [
      "De top 3 resultaten zijn: \n",
      "hbo-ict-2.md - 0.8554227097206687\n",
      "hbo-ict-19.md - 0.8442692531897418\n",
      "hbo-ict-16.md - 0.8275229725269576\n"
     ]
    }
   ],
   "source": [
    "def vector_search(vector, num_results=3):\n",
    "    pipeline = [\n",
    "        {\n",
    "            '$search': {\n",
    "                \"cosmosSearch\": {\n",
    "                    \"vector\": vector,\n",
    "                    \"path\": \"contentVector\",\n",
    "                    \"k\": num_results \n",
    "                },\n",
    "                \"returnStoredSource\": True }},\n",
    "        {'$project': { 'similarityScore': { '$meta': 'searchScore' }, 'document' : '$$ROOT' } }\n",
    "    ]\n",
    "    results = collection.aggregate(pipeline)\n",
    "    return results\n",
    "\n",
    "\n",
    "#create an embedding for the question we want to compare\n",
    "questionEmbedding = openai_client.embeddings.create(input = myDataQuestion, model=embeddings_deployment_name).data[0].embedding\n",
    "\n",
    "#zoek relevante pagina's op basis van de vraag\n",
    "results = vector_search(questionEmbedding, 3)\n",
    "\n",
    "retrievedData = []\n",
    "print(\"De top 3 resultaten zijn: \")\n",
    "for result in results:\n",
    "    if result[\"similarityScore\"] > 0.8:\n",
    "        retrievedData.append({\"document\": result[\"document\"][\"filename\"],\"content\": result[\"document\"][\"content\"]})\n",
    "    \n",
    "    print(result[\"document\"][\"filename\"] + \" - \" + str(result[\"similarityScore\"]))\n"
   ]
  },
  {
   "cell_type": "markdown",
   "metadata": {},
   "source": [
    "AUGMENT"
   ]
  },
  {
   "cell_type": "code",
   "execution_count": 7,
   "metadata": {},
   "outputs": [
    {
     "name": "stdout",
     "output_type": "stream",
     "text": [
      "[\n",
      "    {\n",
      "        \"role\": \"user\",\n",
      "        \"content\": \"Wanneer is de open dag?\"\n",
      "    },\n",
      "    {\n",
      "        \"role\": \"system\",\n",
      "        \"content\": \"\\n            Je bent een behulpzame assistent\\n            Je geeft alleen antwoord op basis van de data die je hebt gekregen\\n            Indien je het antwoord niet kunt vinden, zeg je dat je het antwoord niet weet\\n            vermeld je bron document bij je antwoord [bron: documentnaam]\\n\\n            ## data\\n            [{'document': 'hbo-ict-2.md', 'content': 'Kom langs op zaterdag 27 januari tussen 10.00 en 15.00u  \\\\nMeld je aan  \\\\n* Bezoek een open dag\\\\n* Download de opleidingsbrochure ICT\\\\n* Maak je profielwerkstuk bij ons\\\\n* Houd mij op de hoogte\\\\n* Mail onze studieadviseur  \\\\nSchrijf je in voor de opleiding'}, {'document': 'hbo-ict-19.md', 'content': '* Open dagen\\\\n* Proefstuderen\\\\n* Hulp bij studiekeuze\\\\n* Inschrijven'}, {'document': 'hbo-ict-16.md', 'content': 'Wil je ook nog even zelf v\\u00f3elen hoe het is om bij ons hbo ICT te studeren? Kom\\\\ndan een dagje proefstuderen! Wij hebben hele leuke opdrachten voor je\\\\nklaarliggen. En je kunt ook al even rondsnuffelen in onze lokalen en studenten\\\\nen docenten ontmoeten. Dus hopelijk tot snel in Heerlen!  \\\\nBekijk de data en meld je aan'}]\\n        \"\n",
      "    }\n",
      "]\n"
     ]
    }
   ],
   "source": [
    "messages = [\n",
    "    {\n",
    "        \"role\": \"user\",\n",
    "        \"content\": myDataQuestion\n",
    "    },\n",
    "    {\n",
    "        \"role\": \"system\",\n",
    "        \"content\" : f\"\"\"\n",
    "            Je bent een behulpzame assistent\n",
    "            Je geeft alleen antwoord op basis van de data die je hebt gekregen\n",
    "            Indien je het antwoord niet kunt vinden, zeg je dat je het antwoord niet weet\n",
    "            vermeld je bron document bij je antwoord [bron: documentnaam]\n",
    "\n",
    "            ## data\n",
    "            {retrievedData}\n",
    "        \"\"\"\n",
    "    }\n",
    "]\n",
    "\n",
    "\n",
    "print(json.dumps(messages, indent=4))\n",
    "\n",
    "\n"
   ]
  },
  {
   "cell_type": "markdown",
   "metadata": {},
   "source": [
    "GENERATE"
   ]
  },
  {
   "cell_type": "code",
   "execution_count": 8,
   "metadata": {},
   "outputs": [
    {
     "name": "stdout",
     "output_type": "stream",
     "text": [
      "De open dag is op zaterdag 27 januari tussen 10.00 en 15.00u. [bron: hbo-\n",
      "ict-2.md]\n"
     ]
    }
   ],
   "source": [
    "myDataResponse = openai_client.chat.completions.create(\n",
    "    model = chat_deployment_name,\n",
    "    temperature=0.0,\n",
    "    messages=messages\n",
    "    )\n",
    "\n",
    "lines = textwrap.wrap(myDataResponse.choices[0].message.content, width=80)\n",
    "for line in lines:\n",
    "    print(line)\n",
    "\n",
    "\n",
    "\n"
   ]
  }
 ],
 "metadata": {
  "kernelspec": {
   "display_name": ".venv",
   "language": "python",
   "name": "python3"
  },
  "language_info": {
   "codemirror_mode": {
    "name": "ipython",
    "version": 3
   },
   "file_extension": ".py",
   "mimetype": "text/x-python",
   "name": "python",
   "nbconvert_exporter": "python",
   "pygments_lexer": "ipython3",
   "version": "3.11.6"
  }
 },
 "nbformat": 4,
 "nbformat_minor": 2
}
