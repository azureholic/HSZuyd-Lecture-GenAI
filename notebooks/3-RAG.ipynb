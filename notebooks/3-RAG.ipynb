{
 "cells": [
  {
   "cell_type": "markdown",
   "metadata": {},
   "source": [
    "Je kunt de vraag veranderen\n",
    "\n",
    "Kies dan voor \"Clear All Outputs\" en \"Run All\" om het hele RAG pattern te doorlopen\n",
    "met een nieuwe vraag."
   ]
  },
  {
   "cell_type": "code",
   "execution_count": 11,
   "metadata": {},
   "outputs": [],
   "source": [
    "myDataQuestion = \"Wie is Remco?\""
   ]
  },
  {
   "cell_type": "code",
   "execution_count": 12,
   "metadata": {},
   "outputs": [
    {
     "name": "stdout",
     "output_type": "stream",
     "text": [
      "*** init done! ***\n"
     ]
    }
   ],
   "source": [
    "#inititalize the notebook\n",
    "import os\n",
    "import textwrap\n",
    "import pymongo\n",
    "from dotenv import load_dotenv\n",
    "from openai import AzureOpenAI\n",
    "\n",
    "load_dotenv()\n",
    "\n",
    "openai_client = AzureOpenAI(\n",
    "    api_key = os.getenv(\"AZURE_OPENAI_API_KEY\"),\n",
    "    api_version = os.getenv(\"OPENAI_API_VERSION\"),\n",
    "    azure_endpoint = os.getenv(\"AZURE_OPENAI_API_BASE\")\n",
    ")\n",
    "\n",
    "mongo_user = os.getenv(\"COSMOS_MONGO_USER\")\n",
    "mongo_pwd = os.getenv(\"COSMOS_MONGO_PWD\")\n",
    "mongo_server = os.getenv(\"COSMOS_MONGO_SERVER\")\n",
    "mongo_conn = f\"mongodb+srv://{mongo_user}:{mongo_pwd}@{mongo_server}?tls=true&authMechanism=SCRAM-SHA-256&retrywrites=false&maxIdleTimeMS=120000\"\n",
    "\n",
    "\n",
    "embeddings_deployment_name = \"text-embedding-ada-002\"\n",
    "chat_deployment_name = \"gpt-4\"\n",
    "\n",
    "databaseName = \"hszuyd\"\n",
    "collectionName = \"webpagecollection\"\n",
    "\n",
    "mongo_client = pymongo.MongoClient(mongo_conn)\n",
    "db = mongo_client[databaseName]\n",
    "collection = db[collectionName]\n",
    "\n",
    "print(\"*** init done! ***\")\n"
   ]
  },
  {
   "cell_type": "markdown",
   "metadata": {},
   "source": [
    "RETRIEVE"
   ]
  },
  {
   "cell_type": "code",
   "execution_count": 13,
   "metadata": {},
   "outputs": [
    {
     "name": "stdout",
     "output_type": "stream",
     "text": [
      "De top 3 resultaten zijn: \n",
      "hbo-ict-999.md - 0.8602040749727652\n",
      "hbo-ict-1.md - 0.7790297332317446\n",
      "hbo-ict-0.md - 0.7790163027654221\n"
     ]
    }
   ],
   "source": [
    "def vector_search(vector, num_results=3):\n",
    "    pipeline = [\n",
    "        {\n",
    "            '$search': {\n",
    "                \"cosmosSearch\": {\n",
    "                    \"vector\": vector,\n",
    "                    \"path\": \"contentVector\",\n",
    "                    \"k\": num_results \n",
    "                },\n",
    "                \"returnStoredSource\": True }},\n",
    "        {'$project': { 'similarityScore': { '$meta': 'searchScore' }, 'document' : '$$ROOT' } }\n",
    "    ]\n",
    "    results = collection.aggregate(pipeline)\n",
    "    return results\n",
    "\n",
    "\n",
    "#create an embedding for the question we want to compare\n",
    "questionEmbedding = openai_client.embeddings.create(input = myDataQuestion, model=embeddings_deployment_name).data[0].embedding\n",
    "\n",
    "#zoek relevante pagina's op basis van de vraag\n",
    "results = vector_search(questionEmbedding, 3)\n",
    "\n",
    "retrievedData = []\n",
    "print(\"De top 3 resultaten zijn: \")\n",
    "for result in results:\n",
    "    if result[\"similarityScore\"] > 0.8:\n",
    "        #retrievedData.append({\"role\": \"system\", \"content\": \"## data \\n \" + result[\"document\"][\"content\"]})\n",
    "        retrievedData.append({\"document\": result[\"document\"][\"filename\"],\"content\": result[\"document\"][\"content\"]})\n",
    "    print(result[\"document\"][\"filename\"] + \" - \" + str(result[\"similarityScore\"]))\n"
   ]
  },
  {
   "cell_type": "markdown",
   "metadata": {},
   "source": [
    "AUGMENT"
   ]
  },
  {
   "cell_type": "code",
   "execution_count": 14,
   "metadata": {},
   "outputs": [
    {
     "data": {
      "text/plain": [
       "[{'role': 'user', 'content': 'Wie is Remco?'},\n",
       " {'role': 'system',\n",
       "  'content': '\\n            Je bent een behulpzame assistent\\n            Je geeft alleen antwoord op basis van de data die je hebt gekregen\\n            Indien je het antwoord niet kunt vinden, \\n            zeg je dat je het antwoord niet weet\\n\\n            ## data\\n            [{\\'document\\': \\'hbo-ict-999.md\\', \\'content\\': \\'Wie is Remco Brosky?\\\\n\\\\nRemco Brosky is Senior Cloud Solution Architect bij Microsoft. Hij is onderdeel van de Customer Succes Unit in Nederland in het domein \"Digital and Application Innovation\". Hij werkt dagelijks met klanten op het gebied van Cloud Native Application Development, Developer Experience en het Development Process.\\\\nDenk hierbij aan Best practices rondom het gebruik van Microsoft Azure, Generative AI, Github, Azure DevOps en diverse development diensten zoals Kubernetes en App Services. \\\\nHij heeft een achtergrond in software engineering en architecture en is een Microsoft Certified Architect en Trainer.\\'}]\\n        '}]"
      ]
     },
     "execution_count": 14,
     "metadata": {},
     "output_type": "execute_result"
    }
   ],
   "source": [
    "messages = [\n",
    "    {\n",
    "        \"role\": \"user\",\n",
    "        \"content\": myDataQuestion\n",
    "    },\n",
    "    {\n",
    "        \"role\": \"system\",\n",
    "        \"content\" : f\"\"\"\n",
    "            Je bent een behulpzame assistent\n",
    "            Je geeft alleen antwoord op basis van de data die je hebt gekregen\n",
    "            Indien je het antwoord niet kunt vinden, \n",
    "            zeg je dat je het antwoord niet weet\n",
    "\n",
    "            ## data\n",
    "            {retrievedData}\n",
    "        \"\"\"\n",
    "    }\n",
    "]\n",
    "\n",
    "#messages.extend(retrievedData)\n",
    "\n",
    "messages\n",
    "\n",
    "\n"
   ]
  },
  {
   "cell_type": "markdown",
   "metadata": {},
   "source": [
    "GENERATE"
   ]
  },
  {
   "cell_type": "code",
   "execution_count": 15,
   "metadata": {},
   "outputs": [
    {
     "name": "stdout",
     "output_type": "stream",
     "text": [
      "Remco Brosky is Senior Cloud Solution Architect bij Microsoft. Hij is onderdeel\n",
      "van de Customer Succes Unit in Nederland in het domein \"Digital and Application\n",
      "Innovation\". Hij werkt dagelijks met klanten op het gebied van Cloud Native\n",
      "Application Development, Developer Experience en het Development Process. Hij\n",
      "heeft een achtergrond in software engineering en architecture en is een\n",
      "Microsoft Certified Architect en Trainer.\n"
     ]
    }
   ],
   "source": [
    "myDataResponse = openai_client.chat.completions.create(\n",
    "    model = chat_deployment_name,\n",
    "    temperature=0.0,\n",
    "    messages=messages\n",
    "    )\n",
    "\n",
    "lines = textwrap.wrap(myDataResponse.choices[0].message.content, width=80)\n",
    "for line in lines:\n",
    "    print(line)\n",
    "\n",
    "\n",
    "\n"
   ]
  }
 ],
 "metadata": {
  "kernelspec": {
   "display_name": ".venv",
   "language": "python",
   "name": "python3"
  },
  "language_info": {
   "codemirror_mode": {
    "name": "ipython",
    "version": 3
   },
   "file_extension": ".py",
   "mimetype": "text/x-python",
   "name": "python",
   "nbconvert_exporter": "python",
   "pygments_lexer": "ipython3",
   "version": "3.11.6"
  }
 },
 "nbformat": 4,
 "nbformat_minor": 2
}
