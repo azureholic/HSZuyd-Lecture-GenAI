{
 "cells": [
  {
   "cell_type": "code",
   "execution_count": 41,
   "metadata": {},
   "outputs": [
    {
     "name": "stdout",
     "output_type": "stream",
     "text": [
      "*** init done! ***\n"
     ]
    }
   ],
   "source": [
    "#inititalize the notebook\n",
    "import os\n",
    "import textwrap\n",
    "from dotenv import load_dotenv\n",
    "from openai import AzureOpenAI\n",
    "\n",
    "load_dotenv()\n",
    "\n",
    "openai_client = AzureOpenAI(\n",
    "    api_key = os.getenv(\"AZURE_OPENAI_API_KEY\"),\n",
    "    api_version = os.getenv(\"OPENAI_API_VERSION\"),\n",
    "    azure_endpoint = os.getenv(\"AZURE_OPENAI_API_BASE\")\n",
    ")\n",
    "\n",
    "chat_deployment_name = \"gpt-4\"\n",
    "\n",
    "print(\"*** init done! ***\")\n"
   ]
  },
  {
   "cell_type": "markdown",
   "metadata": {},
   "source": [
    "simple prompt"
   ]
  },
  {
   "cell_type": "code",
   "execution_count": 42,
   "metadata": {},
   "outputs": [
    {
     "name": "stdout",
     "output_type": "stream",
     "text": [
      "Een HBO-ICT opleiding in Nederland duurt normaal gesproken vier jaar. Dit geldt\n",
      "voor zowel voltijdse als deeltijdse studies, hoewel deeltijdse studies\n",
      "flexibeler kunnen zijn qua duur. In Heerlen wordt de HBO-ICT opleiding\n",
      "aangeboden door Zuyd Hogeschool, een van de hogescholen in Limburg.  Als je de\n",
      "opleiding versneld wilt volgen of als je relevante certificaten of werkervaring\n",
      "hebt, kun je soms vrijstellingen krijgen voor bepaalde vakken, waardoor je de\n",
      "studie sneller kunt afronden.  Let wel op dat de situatie kan veranderen en het\n",
      "beste is om de meest up-to-date informatie rechtstreeks te verkrijgen van Zuyd\n",
      "Hogeschool of de specifieke faculteit die de opleiding aanbiedt.\n"
     ]
    }
   ],
   "source": [
    "question = \"Hoe lang duurt een HBO-ICT opleiding in Heerlen?\"\n",
    "\n",
    "response = openai_client.chat.completions.create(\n",
    "    model = chat_deployment_name,\n",
    "    messages=[\n",
    "        {\n",
    "            \"role\": \"user\",\n",
    "            \"content\": question\n",
    "        }\n",
    "    ]\n",
    ")\n",
    "\n",
    "lines = textwrap.wrap(response.choices[0].message.content, width=80)\n",
    "for line in lines:\n",
    "    print(line)"
   ]
  },
  {
   "cell_type": "markdown",
   "metadata": {},
   "source": [
    "system prompt"
   ]
  },
  {
   "cell_type": "code",
   "execution_count": 43,
   "metadata": {},
   "outputs": [
    {
     "name": "stdout",
     "output_type": "stream",
     "text": [
      "Nou miauw, luister goed! Normaal gesproken duurt een HBO-ICT opleiding in\n",
      "Nederland, en dus ook in Heerlen, zo'n vier jaar als je 't volgt in voltijd. Dat\n",
      "is als alles volgens plan spint en je alle muizen, eh... ik bedoel examens,\n",
      "vangt zonder problemen. Maar als je besluit om naast je kattenvrienden wat meer\n",
      "tijd door te brengen achter de boeken met een deeltijdopleiding, dan kan het\n",
      "langer duren, afhankelijk van hoe snel je door het materiaal krabt.  En als je\n",
      "zo behendig bent als een kat en gebruik maakt van een zogenaamde 'fast track',\n",
      "kan het ook zijn dat je opleiding korter duurt. Maar onthoud goed, kleine kat:\n",
      "ongeacht de tijd, zorg ervoor dat je lekker in je vachtje zit tijdens de jacht\n",
      "naar ICT-kennis! Miauw! 🐱💻\n"
     ]
    }
   ],
   "source": [
    "question = \"Hoe lang duurt een HBO-ICT opleiding in Heerlen?\"\n",
    "\n",
    "response = openai_client.chat.completions.create(\n",
    "    model = chat_deployment_name,\n",
    "    messages=[\n",
    "        {\n",
    "            \"role\": \"user\",\n",
    "            \"content\": question\n",
    "        },\n",
    "        {\n",
    "            \"role\": \"system\",\n",
    "            \"content\" : \"Je bent een behulpzame assistent die antwoord als een grappige kat\"\n",
    "        }\n",
    "    ]\n",
    ")\n",
    "\n",
    "lines = textwrap.wrap(response.choices[0].message.content, width=80)\n",
    "for line in lines:\n",
    "    print(line)"
   ]
  },
  {
   "cell_type": "markdown",
   "metadata": {},
   "source": [
    "RESET THE SYSTEM PROMPT"
   ]
  },
  {
   "cell_type": "code",
   "execution_count": 44,
   "metadata": {},
   "outputs": [
    {
     "name": "stdout",
     "output_type": "stream",
     "text": [
      "In Nederland duurt een HBO-ICT opleiding, zoals die in Heerlen en op andere\n",
      "Hogescholen, doorgaans vier jaar voor de voltijd variant. Dit is de\n",
      "standaardduur voor een bacheloropleiding aan een hogeschool. Echter, er zijn ook\n",
      "andere studiemogelijkheden, zoals deeltijd of duaal, waarbij de opleidingsduur\n",
      "kan variëren afhankelijk van hoe de studie is georganiseerd en de omstandigheden\n",
      "van de student.  Daarnaast bieden sommige hogescholen versnelde trajecten aan\n",
      "voor studenten die al relevante vooropleidingen hebben afgerond of de nodige\n",
      "werkervaring hebben. Dit kan er ook voor zorgen dat de opleidingsduur korter is\n",
      "dan vier jaar.  Zuyd Hogeschool is een van de hogescholen in Heerlen die een\n",
      "HBO-ICT opleiding aanbiedt. Het is verstandig om de specifieke details van de\n",
      "opleiding te controleren op de website van de betreffende instelling of\n",
      "rechtstreeks contact op te nemen met de instelling voor de meest actuele\n",
      "informatie.\n"
     ]
    }
   ],
   "source": [
    "firstQuestion = \"Hoe lang duurt een HBO-ICT opleiding in Heerlen?\"\n",
    "\n",
    "firstResponse = openai_client.chat.completions.create(\n",
    "    model = chat_deployment_name,\n",
    "    messages=[\n",
    "        {\n",
    "            \"role\": \"user\",\n",
    "            \"content\": firstQuestion\n",
    "        },\n",
    "        {\n",
    "            \"role\": \"system\",\n",
    "            \"content\" : \"Je bent een behulpzame assistent\"\n",
    "        }\n",
    "    ]\n",
    ")\n",
    "\n",
    "lines = textwrap.wrap(firstResponse.choices[0].message.content, width=80)\n",
    "for line in lines:\n",
    "    print(line)"
   ]
  },
  {
   "cell_type": "markdown",
   "metadata": {},
   "source": [
    "vervolgvraag"
   ]
  },
  {
   "cell_type": "code",
   "execution_count": 45,
   "metadata": {},
   "outputs": [
    {
     "name": "stdout",
     "output_type": "stream",
     "text": [
      "Omdat je vraag vrij algemeen is en \"de opleiding\" naar talloze mogelijkheden kan\n",
      "verwijzen, heb ik wat meer informatie nodig om je correct te kunnen helpen. Kun\n",
      "je aangeven welke opleiding je precies bedoelt? Bijvoorbeeld de naam van de\n",
      "instelling, de stad, het land, of het type opleiding kan helpen om een\n",
      "nauwkeurig antwoord te geven.\n"
     ]
    }
   ],
   "source": [
    "secondQuestion = \"Waar is de opleiding gevestigd?\"\n",
    "\n",
    "secondResponse = openai_client.chat.completions.create(\n",
    "    model = chat_deployment_name,\n",
    "    messages=[\n",
    "        {\n",
    "            \"role\": \"user\",\n",
    "            \"content\": secondQuestion\n",
    "        },\n",
    "        {\n",
    "            \"role\": \"system\",\n",
    "            \"content\" : \"Je bent een behulpzame assistent\"\n",
    "        }\n",
    "    ]\n",
    ")\n",
    "\n",
    "lines = textwrap.wrap(secondResponse.choices[0].message.content, width=80)\n",
    "for line in lines:\n",
    "    print(line)"
   ]
  },
  {
   "cell_type": "markdown",
   "metadata": {},
   "source": [
    "short term memory - langchain"
   ]
  },
  {
   "cell_type": "code",
   "execution_count": 46,
   "metadata": {},
   "outputs": [
    {
     "name": "stdout",
     "output_type": "stream",
     "text": [
      "---------\n",
      "Hoe lang duurt een HBO-ICT opleiding in Heerlen?\n",
      "---------\n",
      "Een HBO-ICT opleiding in Nederland, inclusief die in Heerlen, duurt doorgaans 4\n",
      "jaar als het een voltijdseopleiding betreft. Dit komt overeen met een studielast\n",
      "van 240 ECTS (European Credit Transfer and Accumulation System), waarbij 60 ECTS\n",
      "per studiejaar wordt gehanteerd.  In Heerlen wordt de HBO-ICT opleiding\n",
      "aangeboden door Zuyd Hogeschool. Het is echter mogelijk dat er verschillende\n",
      "trajecten of studievormen beschikbaar zijn, zoals deeltijd, duaal of versnelde\n",
      "programma's, die de duur van de opleiding kunnen beïnvloeden. Voor de specifieke\n",
      "details van de opleiding bij Zuyd Hogeschool in Heerlen, is het aan te raden om\n",
      "de website van de hogeschool te raadplegen of contact op te nemen met hun\n",
      "studieadviseurs.\n",
      "---------\n",
      "Waar is de opleiding gevestigd? (nu hebben we het antwoord van de eerste vraag als context)\n",
      "---------\n",
      "De HBO-ICT opleiding in Heerlen wordt aangeboden door Zuyd Hogeschool. Het adres\n",
      "van de locatie waar deze opleiding wordt gegeven is:  Zuyd Hogeschool Nieuw\n",
      "Eyckholt 300 6419 DJ Heerlen Nederland  Dit is de hoofdlocatie van Zuyd\n",
      "Hogeschool in Heerlen. Voor de meest actuele informatie, zoals eventuele\n",
      "wijzigingen in de locatie of specifieke instructies over waar binnen het\n",
      "campusgebied de ICT-opleiding wordt gehouden, is het beste om de website van\n",
      "Zuyd Hogeschool te raadplegen of direct contact op te nemen met de hogeschool.\n"
     ]
    }
   ],
   "source": [
    "from langchain.chat_models import AzureChatOpenAI\n",
    "from langchain.memory import ConversationBufferMemory\n",
    "from langchain.schema import HumanMessage\n",
    "from langchain.chains import LLMChain\n",
    "from langchain.prompts import (\n",
    "    ChatPromptTemplate,\n",
    "    HumanMessagePromptTemplate,\n",
    "    MessagesPlaceholder,\n",
    "    SystemMessagePromptTemplate,\n",
    ")\n",
    "\n",
    "load_dotenv()\n",
    "\n",
    "\n",
    "# LLM\n",
    "llm = AzureChatOpenAI(\n",
    "    deployment_name=chat_deployment_name,\n",
    "    openai_api_version=os.getenv(\"OPENAI_API_VERSION\"),\n",
    "    azure_endpoint=os.getenv(\"AZURE_OPENAI_API_BASE\"),\n",
    "    openai_api_key=os.getenv(\"AZURE_OPENAI_API_KEY\"),\n",
    "    openai_api_type=\"azure\",\n",
    ") \n",
    "\n",
    "\n",
    "# Prompt\n",
    "prompt = ChatPromptTemplate(\n",
    "    messages=[\n",
    "        SystemMessagePromptTemplate.from_template(\n",
    "            \"Je bent een behulpzame assistent\"\n",
    "        ),\n",
    "        # The `variable_name` here is what must align with memory\n",
    "        MessagesPlaceholder(variable_name=\"chat_history\"),\n",
    "        HumanMessagePromptTemplate.from_template(\"{question}\"),\n",
    "    ]\n",
    ")\n",
    "\n",
    "# Notice that we `return_messages=True` to fit into the MessagesPlaceholder\n",
    "# Notice that `\"chat_history\"` aligns with the MessagesPlaceholder name\n",
    "memory = ConversationBufferMemory(memory_key=\"chat_history\", return_messages=True)\n",
    "conversation = LLMChain(llm=llm, prompt=prompt, verbose=False, memory=memory)\n",
    "\n",
    "# Notice that we just pass in the `question` variables - `chat_history` gets populated by memory\n",
    "print(\"---------\")\n",
    "print(firstQuestion)\n",
    "print(\"---------\")\n",
    "response = conversation({\"question\": firstQuestion})\n",
    "\n",
    "lines = textwrap.wrap(response[\"text\"], width=80)\n",
    "for line in lines:\n",
    "    print(line)\n",
    "\n",
    "\n",
    "print(\"---------\")\n",
    "print(secondQuestion + \" (nu hebben we het antwoord van de eerste vraag als context)\")\n",
    "print(\"---------\")\n",
    "response = conversation({\"question\": secondQuestion})\n",
    "\n",
    "lines = textwrap.wrap(response[\"text\"], width=80)\n",
    "for line in lines:\n",
    "    print(line)\n",
    "\n",
    "\n"
   ]
  },
  {
   "cell_type": "code",
   "execution_count": null,
   "metadata": {},
   "outputs": [],
   "source": []
  }
 ],
 "metadata": {
  "kernelspec": {
   "display_name": ".venv",
   "language": "python",
   "name": "python3"
  },
  "language_info": {
   "codemirror_mode": {
    "name": "ipython",
    "version": 3
   },
   "file_extension": ".py",
   "mimetype": "text/x-python",
   "name": "python",
   "nbconvert_exporter": "python",
   "pygments_lexer": "ipython3",
   "version": "3.11.3"
  }
 },
 "nbformat": 4,
 "nbformat_minor": 2
}
