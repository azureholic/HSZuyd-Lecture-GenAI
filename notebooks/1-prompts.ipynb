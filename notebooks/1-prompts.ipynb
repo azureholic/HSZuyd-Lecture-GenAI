{
 "cells": [
  {
   "cell_type": "code",
   "execution_count": 1,
   "metadata": {},
   "outputs": [
    {
     "name": "stdout",
     "output_type": "stream",
     "text": [
      "*** init done! ***\n"
     ]
    }
   ],
   "source": [
    "#inititalize the notebook\n",
    "import os\n",
    "import textwrap\n",
    "from dotenv import load_dotenv\n",
    "from openai import AzureOpenAI\n",
    "\n",
    "load_dotenv()\n",
    "\n",
    "openai_client = AzureOpenAI(\n",
    "    api_key = os.getenv(\"AZURE_OPENAI_API_KEY\"),\n",
    "    api_version = os.getenv(\"OPENAI_API_VERSION\"),\n",
    "    azure_endpoint = os.getenv(\"AZURE_OPENAI_API_BASE\")\n",
    ")\n",
    "\n",
    "chat_deployment_name = \"gpt-4\"\n",
    "\n",
    "print(\"*** init done! ***\")\n"
   ]
  },
  {
   "cell_type": "markdown",
   "metadata": {},
   "source": [
    "simple prompt"
   ]
  },
  {
   "cell_type": "code",
   "execution_count": 2,
   "metadata": {},
   "outputs": [
    {
     "name": "stdout",
     "output_type": "stream",
     "text": [
      "Een HBO-ICT opleiding in Heerlen duurt normaal gesproken 4 jaar.\n"
     ]
    }
   ],
   "source": [
    "question = \"Hoe lang duurt een HBO-ICT opleiding in Heerlen?\"\n",
    "\n",
    "response = openai_client.chat.completions.create(\n",
    "    model = chat_deployment_name,\n",
    "    messages=[\n",
    "        {\n",
    "            \"role\": \"user\",\n",
    "            \"content\": question\n",
    "        }\n",
    "    ]\n",
    ")\n",
    "\n",
    "lines = textwrap.wrap(response.choices[0].message.content, width=80)\n",
    "for line in lines:\n",
    "    print(line)"
   ]
  },
  {
   "cell_type": "markdown",
   "metadata": {},
   "source": [
    "system prompt"
   ]
  },
  {
   "cell_type": "code",
   "execution_count": 3,
   "metadata": {},
   "outputs": [
    {
     "name": "stdout",
     "output_type": "stream",
     "text": [
      "Een HBO-ICT opleiding in Heerlen duurt doorgaans 4 jaar. Dit is als je\n",
      "knetterhard studeert zonder ingeklemd te zijn tussen twee kussens in slaap\n",
      "gevallen. Dus bereid je voor op veel muisklikken, toetsenbordtikken en misschien\n",
      "wel wat nachtelijke muizenjachten!\n"
     ]
    }
   ],
   "source": [
    "question = \"Hoe lang duurt een HBO-ICT opleiding in Heerlen?\"\n",
    "\n",
    "response = openai_client.chat.completions.create(\n",
    "    model = chat_deployment_name,\n",
    "    messages=[\n",
    "        {\n",
    "            \"role\": \"user\",\n",
    "            \"content\": question\n",
    "        },\n",
    "        {\n",
    "            \"role\": \"system\",\n",
    "            \"content\" : \"Je bent een behulpzame assistent die antwoord als een grappige kat\"\n",
    "        }\n",
    "    ]\n",
    ")\n",
    "\n",
    "lines = textwrap.wrap(response.choices[0].message.content, width=80)\n",
    "for line in lines:\n",
    "    print(line)"
   ]
  },
  {
   "cell_type": "markdown",
   "metadata": {},
   "source": [
    "RESET THE SYSTEM PROMPT"
   ]
  },
  {
   "cell_type": "code",
   "execution_count": 38,
   "metadata": {},
   "outputs": [
    {
     "name": "stdout",
     "output_type": "stream",
     "text": [
      "In Nederland duurt een HBO-ICT opleiding (Hoger beroepsonderwijs - Informatie en\n",
      "Communicatie Technologie) over het algemeen vier jaar. Dit geldt ook voor de\n",
      "HBO-ICT opleiding in Heerlen, die bijvoorbeeld aangeboden kan worden door Zuyd\n",
      "Hogeschool, een van de bekende aanbieders van hoger beroepsonderwijs in die\n",
      "regio.  De vierjarige opleiding leidt op tot het niveau van bachelor en\n",
      "combineert theoretische kennis met praktische vaardigheden op het gebied van IT.\n",
      "Studenten kunnen meestal kiezen tussen verschillende specialisaties of\n",
      "profielen, zoals software engineering, cyber security, data science, en\n",
      "netwerktechnologie.  Het is ook mogelijk om een versneld traject te volgen als\n",
      "je al relevante vooropleidingen of werkervaring hebt, waardoor je de opleiding\n",
      "in sommige gevallen sneller kunt afronden. Daarnaast bieden sommige hogescholen\n",
      "de mogelijkheid tot een deeltijdopleiding, wat langer kan duren, afhankelijk van\n",
      "hoe de studie met werk en/of persoonlijk leven wordt gecombineerd.  Let op dat\n",
      "specifieke details zoals de duur van versnelde of deeltijdvarianten van de\n",
      "opleiding kunnen variëren bij verschillende hogescholen. Het is raadzaam om de\n",
      "website van de onderwijsinstelling te raadplegen of contact op te nemen met de\n",
      "instelling voor de meest actuele informatie.\n"
     ]
    }
   ],
   "source": [
    "firstQuestion = \"Hoe lang duurt een HBO-ICT opleiding in Heerlen?\"\n",
    "\n",
    "firstResponse = openai_client.chat.completions.create(\n",
    "    model = chat_deployment_name,\n",
    "    messages=[\n",
    "        {\n",
    "            \"role\": \"user\",\n",
    "            \"content\": firstQuestion\n",
    "        },\n",
    "        {\n",
    "            \"role\": \"system\",\n",
    "            \"content\" : \"Je bent een behulpzame assistent\"\n",
    "        }\n",
    "    ]\n",
    ")\n",
    "\n",
    "lines = textwrap.wrap(firstResponse.choices[0].message.content, width=80)\n",
    "for line in lines:\n",
    "    print(line)"
   ]
  },
  {
   "cell_type": "markdown",
   "metadata": {},
   "source": [
    "vervolgvraag"
   ]
  },
  {
   "cell_type": "code",
   "execution_count": 39,
   "metadata": {},
   "outputs": [
    {
     "name": "stdout",
     "output_type": "stream",
     "text": [
      "Om je vraag correct te beantwoorden, moet ik weten naar welke campus je\n",
      "specifiek verwijst, aangezien er wereldwijd veel universiteiten, hogescholen en\n",
      "andere onderwijsinstellingen zijn, elk met hun eigen campussen.  Als je een\n",
      "bepaalde instelling in gedachten hebt, zoals een universiteit of bedrijfscampus,\n",
      "laat me dan de naam weten. Dan kan ik je het betreffende adres geven. Zonder\n",
      "specifieke informatie kan ik helaas het adres niet verstrekken.\n"
     ]
    }
   ],
   "source": [
    "secondQuestion = \"Wat is het adres van de campus?\"\n",
    "\n",
    "secondResponse = openai_client.chat.completions.create(\n",
    "    model = chat_deployment_name,\n",
    "    messages=[\n",
    "        {\n",
    "            \"role\": \"user\",\n",
    "            \"content\": secondQuestion\n",
    "        },\n",
    "        {\n",
    "            \"role\": \"system\",\n",
    "            \"content\" : \"Je bent een behulpzame assistent\"\n",
    "        }\n",
    "    ]\n",
    ")\n",
    "\n",
    "lines = textwrap.wrap(secondResponse.choices[0].message.content, width=80)\n",
    "for line in lines:\n",
    "    print(line)"
   ]
  },
  {
   "cell_type": "markdown",
   "metadata": {},
   "source": [
    "Add more context"
   ]
  },
  {
   "cell_type": "code",
   "execution_count": 40,
   "metadata": {},
   "outputs": [
    {
     "name": "stdout",
     "output_type": "stream",
     "text": [
      "Aangezien je refereert naar \"de campus\" zonder specifieke context, kan ik alleen\n",
      "aannemen dat je het adres zoekt van de campus waar de HBO-ICT opleiding in\n",
      "Heerlen wordt aangeboden. Als we ervan uitgaan dat de opleiding wordt aangeboden\n",
      "door de Zuyd Hogeschool, dan is het adres van de campus in Heerlen:  Zuyd\n",
      "Hogeschool Nieuw Eyckholt 300 6419 DJ Heerlen Nederland  Dit is het algemene\n",
      "adres van de hoofdlocatie van Zuyd Hogeschool in Heerlen. Let wel op dat\n",
      "onderwijsinstellingen soms meerdere locaties of faculteiten hebben, dus het is\n",
      "raadzaam om de website van Zuyd Hogeschool te raadplegen of direct contact op te\n",
      "nemen voor het meest specifieke en actuele adres gerelateerd aan de opleiding\n",
      "die je zoekt.\n"
     ]
    }
   ],
   "source": [
    "systemWithMemory = {\n",
    "    \"role\": \"system\",\n",
    "    \"content\": f\"\"\"\n",
    "            use the previous question and answer as a context \n",
    "            ##\n",
    "            previous question {firstQuestion}\n",
    "            previous answer {firstResponse.choices[0].message.content}\n",
    "            \"\"\"\n",
    "}\n",
    "\n",
    "\n",
    "secondResponse = openai_client.chat.completions.create(\n",
    "    model = chat_deployment_name,\n",
    "    messages=[\n",
    "        {\n",
    "            \"role\": \"user\",\n",
    "            \"content\": secondQuestion\n",
    "        },\n",
    "        {\n",
    "            \"role\": \"system\",\n",
    "            \"content\" : \"Je bent een behulpzame assistent\"\n",
    "        },\n",
    "        systemWithMemory\n",
    "    ]\n",
    ")\n",
    "\n",
    "lines = textwrap.wrap(secondResponse.choices[0].message.content, width=80)\n",
    "for line in lines:\n",
    "    print(line)"
   ]
  },
  {
   "cell_type": "markdown",
   "metadata": {},
   "source": [
    "short term memory - langchain"
   ]
  },
  {
   "cell_type": "code",
   "execution_count": 41,
   "metadata": {},
   "outputs": [
    {
     "name": "stdout",
     "output_type": "stream",
     "text": [
      "---------\n",
      "Hoe lang duurt een HBO-ICT opleiding in Heerlen?\n",
      "---------\n",
      "De HBO-ICT opleiding in Nederland duurt doorgaans vier jaar, wat overeenkomt met\n",
      "de standaardduur voor voltijd bacheloropleidingen aan hogescholen. De Zuyd\n",
      "Hogeschool is een van de instellingen in Heerlen die een HBO-ICT opleiding\n",
      "aanbiedt. Als je bij Zuyd Hogeschool wilt studeren, kun je verwachten dat de\n",
      "voltijd bacheloropleiding vier jaar duurt.  Er zijn echter verschillende\n",
      "studiemodi beschikbaar, zoals deeltijd of duaal onderwijs, waarbij de opleiding\n",
      "langer kan duren omdat je deze combineert met werk. Ook kunnen er mogelijkheden\n",
      "zijn om de opleiding in een verkort traject te volgen, bijvoorbeeld als je al\n",
      "relevante werkervaring hebt of een verwante vooropleiding hebt gevolgd.  Voor de\n",
      "meest actuele informatie en eventuele specifieke programma's die worden\n",
      "aangeboden, is het het beste om direct contact op te nemen met Zuyd Hogeschool\n",
      "of de specifieke faculteit die de HBO-ICT opleiding verzorgt.\n",
      "---------\n",
      "Wat is het adres van de campus? (nu hebben we het antwoord van de eerste vraag als context)\n",
      "---------\n",
      "De hoofdcampus van Zuyd Hogeschool waar de HBO-ICT opleiding wordt aangeboden,\n",
      "staat bekend als de Nieuw Eyckholt Campus in Heerlen. Het adres is:  Zuyd\n",
      "Hogeschool Nieuw Eyckholt 300 6419 DJ Heerlen Nederland  Zorg ervoor dat je\n",
      "controleert of de HBO-ICT opleiding daadwerkelijk op deze campus wordt\n",
      "aangeboden, aangezien instellingen soms meerdere locaties hebben en opleidingen\n",
      "kunnen verhuizen of verspreid kunnen zijn over verschillende campussen. Voor de\n",
      "meest actuele informatie kun je het beste de website van Zuyd Hogeschool\n",
      "raadplegen of direct contact opnemen met de instelling.\n"
     ]
    }
   ],
   "source": [
    "from langchain.chat_models import AzureChatOpenAI\n",
    "from langchain.memory import ConversationBufferMemory\n",
    "from langchain.schema import HumanMessage\n",
    "from langchain.chains import LLMChain\n",
    "from langchain.prompts import (\n",
    "    ChatPromptTemplate,\n",
    "    HumanMessagePromptTemplate,\n",
    "    MessagesPlaceholder,\n",
    "    SystemMessagePromptTemplate,\n",
    ")\n",
    "\n",
    "load_dotenv()\n",
    "\n",
    "\n",
    "# LLM\n",
    "llm = AzureChatOpenAI(\n",
    "    deployment_name=chat_deployment_name,\n",
    "    openai_api_version=os.getenv(\"OPENAI_API_VERSION\"),\n",
    "    azure_endpoint=os.getenv(\"AZURE_OPENAI_API_BASE\"),\n",
    "    openai_api_key=os.getenv(\"AZURE_OPENAI_API_KEY\"),\n",
    "    openai_api_type=\"azure\",\n",
    ") \n",
    "\n",
    "\n",
    "# Prompt\n",
    "prompt = ChatPromptTemplate(\n",
    "    messages=[\n",
    "        SystemMessagePromptTemplate.from_template(\n",
    "            \"Je bent een behulpzame assistent\"\n",
    "        ),\n",
    "        # The `variable_name` here is what must align with memory\n",
    "        MessagesPlaceholder(variable_name=\"chat_history\"),\n",
    "        HumanMessagePromptTemplate.from_template(\"{question}\"),\n",
    "    ]\n",
    ")\n",
    "\n",
    "# Notice that we `return_messages=True` to fit into the MessagesPlaceholder\n",
    "# Notice that `\"chat_history\"` aligns with the MessagesPlaceholder name\n",
    "memory = ConversationBufferMemory(memory_key=\"chat_history\", return_messages=True)\n",
    "conversation = LLMChain(llm=llm, prompt=prompt, verbose=False, memory=memory)\n",
    "\n",
    "# Notice that we just pass in the `question` variables - `chat_history` gets populated by memory\n",
    "print(\"---------\")\n",
    "print(firstQuestion)\n",
    "print(\"---------\")\n",
    "response = conversation({\"question\": firstQuestion})\n",
    "\n",
    "lines = textwrap.wrap(response[\"text\"], width=80)\n",
    "for line in lines:\n",
    "    print(line)\n",
    "\n",
    "\n",
    "print(\"---------\")\n",
    "print(secondQuestion + \" (nu hebben we het antwoord van de eerste vraag als context)\")\n",
    "print(\"---------\")\n",
    "response = conversation({\"question\": secondQuestion})\n",
    "\n",
    "lines = textwrap.wrap(response[\"text\"], width=80)\n",
    "for line in lines:\n",
    "    print(line)\n",
    "\n",
    "\n"
   ]
  },
  {
   "cell_type": "markdown",
   "metadata": {},
   "source": [
    "Je kunt nu gewoon verder chatten, memory wordt steeds verder uitgebreid\n",
    "\n",
    "Let op! Je prompt wordt steeds groter, dus je verbruikt meer tokens\n",
    "Wellicht heb je niet alle historie van de chat nodig.\n",
    "\n",
    "dit is ook een voorbeeld hoe je een specifieke instructie geeft. \"antwoord alleen met de link naar Google Maps\" is een hele specifieke instructie."
   ]
  },
  {
   "cell_type": "code",
   "execution_count": 42,
   "metadata": {},
   "outputs": [
    {
     "name": "stdout",
     "output_type": "stream",
     "text": [
      "---------\n",
      "\n",
      "                    hoe zou een link naar Google Maps eruit zien voor dit adres?\n",
      "                    antwoord alleen met de link naar Google Maps\n",
      "                \n",
      "---------\n",
      "https://www.google.com/maps?q=Nieuw+Eyckholt+300,+6419+DJ+Heerlen,+Nederland\n"
     ]
    }
   ],
   "source": [
    "thirdQuestion = \"\"\"\n",
    "                    hoe zou een link naar Google Maps eruit zien voor dit adres?\n",
    "                    antwoord alleen met de link naar Google Maps\n",
    "                \"\"\"\n",
    "print(\"---------\")\n",
    "print(thirdQuestion)\n",
    "print(\"---------\")\n",
    "response = conversation({\"question\": thirdQuestion})\n",
    "\n",
    "lines = textwrap.wrap(response[\"text\"], width=80)\n",
    "for line in lines:\n",
    "    print(line)\n",
    "\n"
   ]
  },
  {
   "cell_type": "markdown",
   "metadata": {},
   "source": [
    "nog een voorbeeld van een hele specifieke instructie"
   ]
  },
  {
   "cell_type": "code",
   "execution_count": 43,
   "metadata": {},
   "outputs": [
    {
     "name": "stdout",
     "output_type": "stream",
     "text": [
      "---------\n",
      "\n",
      "                    format your output in a json format\n",
      "                    output a plain json as provided in the example with the address\n",
      "                    ## sample json\n",
      "                    {\n",
      "                        \"street\": \"street\",\n",
      "                        \"city\": \"city\",\n",
      "                        \"country\": \"country\",\n",
      "                        \"postal_code\": \"postal_code\"\n",
      "                    }\n",
      "                                        \n",
      "                \n",
      "---------\n",
      "```json\n",
      "{\n",
      "    \"street\": \"Nieuw Eyckholt 300\",\n",
      "    \"city\": \"Heerlen\",\n",
      "    \"country\": \"Nederland\",\n",
      "    \"postal_code\": \"6419 DJ\"\n",
      "}\n",
      "```\n"
     ]
    }
   ],
   "source": [
    "JsonQuestion = \"\"\"\n",
    "                    format your output in a json format\n",
    "                    output a plain json as provided in the example with the address\n",
    "                    ## sample json\n",
    "                    {\n",
    "                        \"street\": \"street\",\n",
    "                        \"city\": \"city\",\n",
    "                        \"country\": \"country\",\n",
    "                        \"postal_code\": \"postal_code\"\n",
    "                    }\n",
    "                                        \n",
    "                \"\"\"\n",
    "print(\"---------\")\n",
    "print(JsonQuestion)\n",
    "print(\"---------\")\n",
    "response = conversation({\"question\": JsonQuestion})\n",
    "\n",
    "print(response[\"text\"])"
   ]
  },
  {
   "cell_type": "markdown",
   "metadata": {},
   "source": [
    "Een hele specifieke vraag"
   ]
  },
  {
   "cell_type": "code",
   "execution_count": 44,
   "metadata": {},
   "outputs": [
    {
     "name": "stdout",
     "output_type": "stream",
     "text": [
      "Om je vraag over de open dag te beantwoorden, heb ik meer context nodig. Open\n",
      "dagen worden georganiseerd door verschillende instellingen zoals universiteiten,\n",
      "scholen, bedrijven en organisaties. Elke instelling heeft zijn eigen schema voor\n",
      "open dagen. Als je op zoek bent naar informatie over een specifieke open dag,\n",
      "laat me dan weten om welke instelling of evenement het gaat, zodat ik je beter\n",
      "kan helpen.\n"
     ]
    }
   ],
   "source": [
    "mySpecificQuestion = \"wanneer is de open dag?\"\n",
    "\n",
    "mySpecificResponse = openai_client.chat.completions.create(\n",
    "    model = chat_deployment_name,\n",
    "    temperature=0.0,\n",
    "    messages=[\n",
    "        {\n",
    "            \"role\": \"user\",\n",
    "            \"content\": mySpecificQuestion\n",
    "        },\n",
    "        {\n",
    "            \"role\": \"system\",\n",
    "            \"content\" : \"Je bent een behulpzame assistent\"\n",
    "        }\n",
    "    ]\n",
    ")\n",
    "\n",
    "\n",
    "lines = textwrap.wrap(mySpecificResponse.choices[0].message.content, width=80)\n",
    "for line in lines:\n",
    "    print(line)\n",
    "\n"
   ]
  },
  {
   "cell_type": "markdown",
   "metadata": {},
   "source": [
    "Wellicht kun je wat meer context geven in de prompt.\n",
    "\n",
    "We gaan nu data toevoegen, hele specifieke data, namelijk een aantal pagina's\n",
    "van de HSZuyd Website."
   ]
  },
  {
   "cell_type": "code",
   "execution_count": 45,
   "metadata": {},
   "outputs": [
    {
     "name": "stdout",
     "output_type": "stream",
     "text": [
      "De open dag is op zaterdag 27 januari, van 10.00 tot 15.00 uur in Heerlen,\n",
      "Maastricht en Sittard. Dit staat vermeld in de content van 'page-0.md'.\n",
      "----\n",
      "Hier wat info over de tokens die je hebt gebruikt:\n",
      "CompletionUsage(completion_tokens=53, prompt_tokens=12788, total_tokens=12841)\n"
     ]
    }
   ],
   "source": [
    "#lees de pagina's om deze later toe te voegen in de prompt\n",
    "page1 = open(\"../docs/page-0.md\", \"r\").read()\n",
    "page2 = open(\"../docs/page-1.md\", \"r\").read()\n",
    "page3 = open(\"../docs/page-2.md\", \"r\").read()\n",
    "\n",
    "pages = [\n",
    "    {\n",
    "        \"fileName\": \"page-0.md\",\n",
    "        \"content\": page1\n",
    "    },\n",
    "    {\n",
    "        \"fileName\": \"page-1.md\",\n",
    "        \"content\": page2\n",
    "    },\n",
    "    {\n",
    "        \"fileName\": \"page-2.md\",\n",
    "        \"content\": page3\n",
    "    }\n",
    "]\n",
    "    \n",
    "\n",
    "myDataQuestion = \"wanneer is de open dag?\"\n",
    "try:\n",
    "    myDataResponse = openai_client.chat.completions.create(\n",
    "        model = chat_deployment_name,\n",
    "        temperature=0.0,\n",
    "        messages=[\n",
    "            {\n",
    "                \"role\": \"user\",\n",
    "                \"content\": myDataQuestion\n",
    "            },\n",
    "            {\n",
    "                \"role\": \"system\",\n",
    "                \"content\" : f\"\"\"\n",
    "                    Je bent een behulpzame assistent\n",
    "                    Je geeft alleen antwoord op basis van de data die je hebt gekregen\n",
    "                    Indien je het antwoord niet kunt vinden, zeg je dat je het antwoord niet weet\n",
    "                    vermeld je bron document bij je antwoord\n",
    "\n",
    "                    ## data\n",
    "                    {pages}\n",
    "\n",
    "                    \"\"\"\n",
    "            }\n",
    "        ]\n",
    "    )\n",
    "\n",
    "    lines = textwrap.wrap(myDataResponse.choices[0].message.content, width=80)\n",
    "    for line in lines:\n",
    "        print(line)\n",
    "\n",
    "    print(\"----\")\n",
    "    print(\"Hier wat info over de tokens die je hebt gebruikt:\")\n",
    "    print(myDataResponse.usage)\n",
    "except Exception as e:\n",
    "    print(e)"
   ]
  },
  {
   "cell_type": "markdown",
   "metadata": {},
   "source": [
    "Okay....dit lijkt werken, maar we verbruiken heel veel tokens...tijd voor een volgende stap.\n",
    "\n",
    "***Embeddings en vectoren"
   ]
  }
 ],
 "metadata": {
  "kernelspec": {
   "display_name": ".venv",
   "language": "python",
   "name": "python3"
  },
  "language_info": {
   "codemirror_mode": {
    "name": "ipython",
    "version": 3
   },
   "file_extension": ".py",
   "mimetype": "text/x-python",
   "name": "python",
   "nbconvert_exporter": "python",
   "pygments_lexer": "ipython3",
   "version": "3.11.6"
  }
 },
 "nbformat": 4,
 "nbformat_minor": 2
}
