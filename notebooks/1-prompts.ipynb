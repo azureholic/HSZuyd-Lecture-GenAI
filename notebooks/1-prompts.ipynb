{
 "cells": [
  {
   "cell_type": "code",
   "execution_count": 1,
   "metadata": {},
   "outputs": [
    {
     "name": "stdout",
     "output_type": "stream",
     "text": [
      "*** init done! ***\n"
     ]
    }
   ],
   "source": [
    "#inititalize the notebook\n",
    "import os\n",
    "import textwrap\n",
    "import json\n",
    "from dotenv import load_dotenv\n",
    "from openai import AzureOpenAI\n",
    "\n",
    "load_dotenv()\n",
    "\n",
    "openai_client = AzureOpenAI(\n",
    "    api_key = os.getenv(\"AZURE_OPENAI_API_KEY\"),\n",
    "    api_version = os.getenv(\"OPENAI_API_VERSION\"),\n",
    "    azure_endpoint = os.getenv(\"AZURE_OPENAI_API_BASE\")\n",
    ")\n",
    "\n",
    "chat_deployment_name = \"gpt-4\"\n",
    "\n",
    "print(\"*** init done! ***\")\n"
   ]
  },
  {
   "cell_type": "markdown",
   "metadata": {},
   "source": [
    "simple prompt"
   ]
  },
  {
   "cell_type": "code",
   "execution_count": 2,
   "metadata": {},
   "outputs": [
    {
     "name": "stdout",
     "output_type": "stream",
     "text": [
      "Een HBO-ICT opleiding in Heerlen duurt normaal gesproken 4 jaar.\n"
     ]
    }
   ],
   "source": [
    "question = \"Hoe lang duurt een HBO-ICT opleiding in Heerlen?\"\n",
    "\n",
    "response = openai_client.chat.completions.create(\n",
    "    model = chat_deployment_name,\n",
    "    messages=[\n",
    "        {\n",
    "            \"role\": \"user\",\n",
    "            \"content\": question\n",
    "        }\n",
    "    ]\n",
    ")\n",
    "\n",
    "lines = textwrap.wrap(response.choices[0].message.content, width=80)\n",
    "for line in lines:\n",
    "    print(line)"
   ]
  },
  {
   "cell_type": "markdown",
   "metadata": {},
   "source": [
    "system prompt"
   ]
  },
  {
   "cell_type": "code",
   "execution_count": 3,
   "metadata": {},
   "outputs": [
    {
     "name": "stdout",
     "output_type": "stream",
     "text": [
      "Een HBO-ICT opleiding in Heerlen duurt doorgaans 4 jaar. Dit is als je\n",
      "knetterhard studeert zonder ingeklemd te zijn tussen twee kussens in slaap\n",
      "gevallen. Dus bereid je voor op veel muisklikken, toetsenbordtikken en misschien\n",
      "wel wat nachtelijke muizenjachten!\n"
     ]
    }
   ],
   "source": [
    "question = \"Hoe lang duurt een HBO-ICT opleiding in Heerlen?\"\n",
    "\n",
    "response = openai_client.chat.completions.create(\n",
    "    model = chat_deployment_name,\n",
    "    messages=[\n",
    "        {\n",
    "            \"role\": \"user\",\n",
    "            \"content\": question\n",
    "        },\n",
    "        {\n",
    "            \"role\": \"system\",\n",
    "            \"content\" : \"Je bent een behulpzame assistent die antwoord als een grappige kat\"\n",
    "        }\n",
    "    ]\n",
    ")\n",
    "\n",
    "lines = textwrap.wrap(response.choices[0].message.content, width=80)\n",
    "for line in lines:\n",
    "    print(line)"
   ]
  },
  {
   "cell_type": "markdown",
   "metadata": {},
   "source": [
    "RESET THE SYSTEM PROMPT"
   ]
  },
  {
   "cell_type": "code",
   "execution_count": 4,
   "metadata": {},
   "outputs": [
    {
     "name": "stdout",
     "output_type": "stream",
     "text": [
      "Een HBO-ICT opleiding duurt doorgaans vier jaar. Maar dit kan variëren\n",
      "afhankelijk van factoren zoals eventuele vrijstellingen of deeltijdstudies. Het\n",
      "is altijd het beste om de specifieke informatie over de opleidingsduur te\n",
      "controleren op de website van de onderwijsinstelling.\n"
     ]
    }
   ],
   "source": [
    "firstQuestion = \"Hoe lang duurt een HBO-ICT opleiding in Heerlen?\"\n",
    "\n",
    "firstResponse = openai_client.chat.completions.create(\n",
    "    model = chat_deployment_name,\n",
    "    messages=[\n",
    "        {\n",
    "            \"role\": \"user\",\n",
    "            \"content\": firstQuestion\n",
    "        },\n",
    "        {\n",
    "            \"role\": \"system\",\n",
    "            \"content\" : \"Je bent een behulpzame assistent\"\n",
    "        }\n",
    "    ]\n",
    ")\n",
    "\n",
    "lines = textwrap.wrap(firstResponse.choices[0].message.content, width=80)\n",
    "for line in lines:\n",
    "    print(line)"
   ]
  },
  {
   "cell_type": "markdown",
   "metadata": {},
   "source": [
    "vervolgvraag"
   ]
  },
  {
   "cell_type": "code",
   "execution_count": 5,
   "metadata": {},
   "outputs": [
    {
     "name": "stdout",
     "output_type": "stream",
     "text": [
      "Ik zou graag willen helpen, maar je moet eerst specificeren welke campus je\n",
      "bedoelt. Er zijn veel scholen, universiteiten en instituten over de hele wereld\n",
      "met verschillende campussen.\n"
     ]
    }
   ],
   "source": [
    "secondQuestion = \"Wat is het adres van de campus?\"\n",
    "\n",
    "secondResponse = openai_client.chat.completions.create(\n",
    "    model = chat_deployment_name,\n",
    "    messages=[\n",
    "        {\n",
    "            \"role\": \"user\",\n",
    "            \"content\": secondQuestion\n",
    "        },\n",
    "        {\n",
    "            \"role\": \"system\",\n",
    "            \"content\" : \"Je bent een behulpzame assistent\"\n",
    "        }\n",
    "    ]\n",
    ")\n",
    "\n",
    "lines = textwrap.wrap(secondResponse.choices[0].message.content, width=80)\n",
    "for line in lines:\n",
    "    print(line)"
   ]
  },
  {
   "cell_type": "markdown",
   "metadata": {},
   "source": [
    "Add more context"
   ]
  },
  {
   "cell_type": "code",
   "execution_count": 6,
   "metadata": {},
   "outputs": [
    {
     "name": "stdout",
     "output_type": "stream",
     "text": [
      "Het spijt me, ik kan je vraag niet beantwoorden zonder meer specifieke details.\n",
      "Welke campus bedoel je? Er zijn veel onderwijsinstellingen over de hele wereld\n",
      "met verschillende campussen.\n"
     ]
    }
   ],
   "source": [
    "systemWithMemory = {\n",
    "    \"role\": \"system\",\n",
    "    \"content\": f\"\"\"\n",
    "            use the previous question and answer as a context \n",
    "            ##\n",
    "            previous question {firstQuestion}\n",
    "            previous answer {firstResponse.choices[0].message.content}\n",
    "            \"\"\"\n",
    "}\n",
    "\n",
    "\n",
    "secondResponse = openai_client.chat.completions.create(\n",
    "    model = chat_deployment_name,\n",
    "    messages=[\n",
    "        {\n",
    "            \"role\": \"user\",\n",
    "            \"content\": secondQuestion\n",
    "        },\n",
    "        {\n",
    "            \"role\": \"system\",\n",
    "            \"content\" : \"Je bent een behulpzame assistent\"\n",
    "        },\n",
    "        systemWithMemory\n",
    "    ]\n",
    ")\n",
    "\n",
    "lines = textwrap.wrap(secondResponse.choices[0].message.content, width=80)\n",
    "for line in lines:\n",
    "    print(line)"
   ]
  },
  {
   "cell_type": "markdown",
   "metadata": {},
   "source": [
    "short term memory - langchain"
   ]
  },
  {
   "cell_type": "code",
   "execution_count": 7,
   "metadata": {},
   "outputs": [
    {
     "name": "stdout",
     "output_type": "stream",
     "text": [
      "---------\n",
      "Hoe lang duurt een HBO-ICT opleiding in Heerlen?\n",
      "---------\n",
      "Een HBO-ICT opleiding duurt over het algemeen 4 jaar in Nederland, inclusief in\n",
      "Heerlen. Dit kan variëren afhankelijk van of je de studie voltijd, deeltijd of\n",
      "duaal volgt. Ook kan de duur van de studie variëren als je eventueel\n",
      "vrijstellingen krijgt voor bepaalde vakken op basis van eerder behaalde\n",
      "diploma's of werkervaring. Het is het beste om direct contact op te nemen met de\n",
      "onderwijsinstelling voor specifieke informatie.\n",
      "---------\n",
      "Wat is het adres van de campus? (nu hebben we het antwoord van de eerste vraag als context)\n",
      "---------\n",
      "Zonder specifieke details over welke universiteit of hogeschool je vraagt, kan\n",
      "ik geen exact adres geven. De Zuyd Hogeschool, een bekende onderwijsinstelling\n",
      "in Heerlen die een HBO-ICT opleiding aanbiedt, bevindt zich op Nieuw Eyckholt\n",
      "300, 6419 DJ Heerlen. Zorg ervoor dat je de juiste campus of locatie controleert\n",
      "op de website van de instelling of neem contact met ze op voor de meest accurate\n",
      "informatie.\n"
     ]
    }
   ],
   "source": [
    "from langchain.chat_models import AzureChatOpenAI\n",
    "from langchain.memory import ConversationBufferMemory\n",
    "from langchain.schema import HumanMessage\n",
    "from langchain.chains import LLMChain\n",
    "from langchain.prompts import (\n",
    "    ChatPromptTemplate,\n",
    "    HumanMessagePromptTemplate,\n",
    "    MessagesPlaceholder,\n",
    "    SystemMessagePromptTemplate,\n",
    ")\n",
    "\n",
    "load_dotenv()\n",
    "\n",
    "\n",
    "# LLM\n",
    "llm = AzureChatOpenAI(\n",
    "    deployment_name=chat_deployment_name,\n",
    "    openai_api_version=os.getenv(\"OPENAI_API_VERSION\"),\n",
    "    azure_endpoint=os.getenv(\"AZURE_OPENAI_API_BASE\"),\n",
    "    openai_api_key=os.getenv(\"AZURE_OPENAI_API_KEY\"),\n",
    "    openai_api_type=\"azure\",\n",
    ") \n",
    "\n",
    "\n",
    "# Prompt\n",
    "prompt = ChatPromptTemplate(\n",
    "    messages=[\n",
    "        SystemMessagePromptTemplate.from_template(\n",
    "            \"Je bent een behulpzame assistent\"\n",
    "        ),\n",
    "        # The `variable_name` here is what must align with memory\n",
    "        MessagesPlaceholder(variable_name=\"chat_history\"),\n",
    "        HumanMessagePromptTemplate.from_template(\"{question}\"),\n",
    "    ]\n",
    ")\n",
    "\n",
    "# Notice that we `return_messages=True` to fit into the MessagesPlaceholder\n",
    "# Notice that `\"chat_history\"` aligns with the MessagesPlaceholder name\n",
    "memory = ConversationBufferMemory(memory_key=\"chat_history\", return_messages=True)\n",
    "conversation = LLMChain(llm=llm, prompt=prompt, verbose=False, memory=memory)\n",
    "\n",
    "# Notice that we just pass in the `question` variables - `chat_history` gets populated by memory\n",
    "print(\"---------\")\n",
    "print(firstQuestion)\n",
    "print(\"---------\")\n",
    "response = conversation({\"question\": firstQuestion})\n",
    "\n",
    "lines = textwrap.wrap(response[\"text\"], width=80)\n",
    "for line in lines:\n",
    "    print(line)\n",
    "\n",
    "\n",
    "print(\"---------\")\n",
    "print(secondQuestion + \" (nu hebben we het antwoord van de eerste vraag als context)\")\n",
    "print(\"---------\")\n",
    "response = conversation({\"question\": secondQuestion})\n",
    "\n",
    "lines = textwrap.wrap(response[\"text\"], width=80)\n",
    "for line in lines:\n",
    "    print(line)\n",
    "\n",
    "\n"
   ]
  },
  {
   "cell_type": "markdown",
   "metadata": {},
   "source": [
    "Je kunt nu gewoon verder chatten, memory wordt steeds verder uitgebreid\n",
    "\n",
    "Let op! Je prompt wordt steeds groter, dus je verbruikt meer tokens\n",
    "Wellicht heb je niet alle historie van de chat nodig.\n",
    "\n",
    "dit is ook een voorbeeld hoe je een specifieke instructie geeft. \"antwoord alleen met de link naar Google Maps\" is een hele specifieke instructie."
   ]
  },
  {
   "cell_type": "code",
   "execution_count": 8,
   "metadata": {},
   "outputs": [
    {
     "name": "stdout",
     "output_type": "stream",
     "text": [
      "---------\n",
      "\n",
      "                    hoe zou een link naar Google Maps eruit zien voor dit adres?\n",
      "                    antwoord alleen met de link naar Google Maps\n",
      "                \n",
      "---------\n",
      "https://www.google.com/maps/place/Nieuw+Eyckholt+300,+6419+DJ+Heerlen,+Nederland\n"
     ]
    }
   ],
   "source": [
    "thirdQuestion = \"\"\"\n",
    "                    hoe zou een link naar Google Maps eruit zien voor dit adres?\n",
    "                    antwoord alleen met de link naar Google Maps\n",
    "                \"\"\"\n",
    "print(\"---------\")\n",
    "print(thirdQuestion)\n",
    "print(\"---------\")\n",
    "response = conversation({\"question\": thirdQuestion})\n",
    "\n",
    "lines = textwrap.wrap(response[\"text\"], width=80)\n",
    "for line in lines:\n",
    "    print(line)\n",
    "\n"
   ]
  },
  {
   "cell_type": "markdown",
   "metadata": {},
   "source": [
    "nog een voorbeeld van een hele specifieke instructie"
   ]
  },
  {
   "cell_type": "code",
   "execution_count": 9,
   "metadata": {},
   "outputs": [
    {
     "name": "stdout",
     "output_type": "stream",
     "text": [
      "---------\n",
      "\n",
      "                    format your output in a json format\n",
      "                    output a plain json as provided in the example with the address\n",
      "                    ## sample json\n",
      "                    {\n",
      "                        \"street\": \"street\",\n",
      "                        \"city\": \"city\",\n",
      "                        \"country\": \"country\",\n",
      "                        \"postal_code\": \"postal_code\"\n",
      "                    }\n",
      "                                        \n",
      "                \n",
      "---------\n",
      "{\n",
      "    \"street\": \"Nieuw Eyckholt 300\",\n",
      "    \"city\": \"Heerlen\",\n",
      "    \"country\": \"Nederland\",\n",
      "    \"postal_code\": \"6419 DJ\"\n",
      "}\n"
     ]
    }
   ],
   "source": [
    "JsonQuestion = \"\"\"\n",
    "                    format your output in a json format\n",
    "                    output a plain json as provided in the example with the address\n",
    "                    ## sample json\n",
    "                    {\n",
    "                        \"street\": \"street\",\n",
    "                        \"city\": \"city\",\n",
    "                        \"country\": \"country\",\n",
    "                        \"postal_code\": \"postal_code\"\n",
    "                    }\n",
    "                                        \n",
    "                \"\"\"\n",
    "print(\"---------\")\n",
    "print(JsonQuestion)\n",
    "print(\"---------\")\n",
    "response = conversation({\"question\": JsonQuestion})\n",
    "\n",
    "print(response[\"text\"])"
   ]
  },
  {
   "cell_type": "markdown",
   "metadata": {},
   "source": [
    "Een hele specifieke vraag"
   ]
  },
  {
   "cell_type": "code",
   "execution_count": 14,
   "metadata": {},
   "outputs": [
    {
     "name": "stdout",
     "output_type": "stream",
     "text": [
      "Om je vraag te beantwoorden, heb ik meer specifieke informatie nodig. Over welke\n",
      "instelling of evenement heb je het? Een universiteit, een school, een bedrijf?\n"
     ]
    }
   ],
   "source": [
    "mySpecificQuestion = \"wanneer is de open dag?\"\n",
    "\n",
    "mySpecificResponse = openai_client.chat.completions.create(\n",
    "    model = chat_deployment_name,\n",
    "    temperature=0.0,\n",
    "    messages=[\n",
    "        {\n",
    "            \"role\": \"user\",\n",
    "            \"content\": mySpecificQuestion\n",
    "        },\n",
    "        {\n",
    "            \"role\": \"system\",\n",
    "            \"content\" : \"Je bent een behulpzame assistent\"\n",
    "        }\n",
    "    ]\n",
    ")\n",
    "\n",
    "\n",
    "lines = textwrap.wrap(mySpecificResponse.choices[0].message.content, width=80)\n",
    "for line in lines:\n",
    "    print(line)\n",
    "\n"
   ]
  },
  {
   "cell_type": "markdown",
   "metadata": {},
   "source": [
    "Wellicht kun je wat meer context geven in de prompt.\n",
    "\n",
    "We gaan nu data toevoegen, hele specifieke data, namelijk een aantal pagina's\n",
    "van de HSZuyd Website."
   ]
  },
  {
   "cell_type": "code",
   "execution_count": 37,
   "metadata": {},
   "outputs": [
    {
     "name": "stdout",
     "output_type": "stream",
     "text": [
      "De open dag is op zaterdag 27 januari, van 10.00 tot 15.00 uur in Heerlen,\n",
      "Maastricht en Sittard. Dit staat vermeld in de content van 'page-0.md'.\n",
      "----\n",
      "Hier wat info over de tokens die je hebt gebruikt:\n",
      "CompletionUsage(completion_tokens=53, prompt_tokens=12788, total_tokens=12841)\n"
     ]
    }
   ],
   "source": [
    "#lees de pagina's om deze later toe te voegen in de prompt\n",
    "page1 = open(\"../docs/page-0.md\", \"r\").read()\n",
    "page2 = open(\"../docs/page-1.md\", \"r\").read()\n",
    "page3 = open(\"../docs/page-2.md\", \"r\").read()\n",
    "\n",
    "pages = [\n",
    "    {\n",
    "        \"fileName\": \"page-0.md\",\n",
    "        \"content\": page1\n",
    "    },\n",
    "    {\n",
    "        \"fileName\": \"page-1.md\",\n",
    "        \"content\": page2\n",
    "    },\n",
    "    {\n",
    "        \"fileName\": \"page-2.md\",\n",
    "        \"content\": page3\n",
    "    }\n",
    "]\n",
    "    \n",
    "\n",
    "myDataQuestion = \"wanneer is de open dag?\"\n",
    "try:\n",
    "    myDataResponse = openai_client.chat.completions.create(\n",
    "        model = chat_deployment_name,\n",
    "        temperature=0.0,\n",
    "        messages=[\n",
    "            {\n",
    "                \"role\": \"user\",\n",
    "                \"content\": myDataQuestion\n",
    "            },\n",
    "            {\n",
    "                \"role\": \"system\",\n",
    "                \"content\" : f\"\"\"\n",
    "                    Je bent een behulpzame assistent\n",
    "                    Je geeft alleen antwoord op basis van de data die je hebt gekregen\n",
    "                    Indien je het antwoord niet kunt vinden, zeg je dat je het antwoord niet weet\n",
    "                    vermeld je bron document bij je antwoord\n",
    "\n",
    "                    ## data\n",
    "                    {pages}\n",
    "\n",
    "                    \"\"\"\n",
    "            }\n",
    "        ]\n",
    "    )\n",
    "\n",
    "    lines = textwrap.wrap(myDataResponse.choices[0].message.content, width=80)\n",
    "    for line in lines:\n",
    "        print(line)\n",
    "\n",
    "    print(\"----\")\n",
    "    print(\"Hier wat info over de tokens die je hebt gebruikt:\")\n",
    "    print(myDataResponse.usage)\n",
    "except Exception as e:\n",
    "    print(e)"
   ]
  },
  {
   "cell_type": "markdown",
   "metadata": {},
   "source": [
    "Okay....dit lijkt werken, maar we verbruiken heel veel tokens...tijd voor een volgende stap.\n",
    "\n",
    "***Embeddings en vectoren"
   ]
  }
 ],
 "metadata": {
  "kernelspec": {
   "display_name": ".venv",
   "language": "python",
   "name": "python3"
  },
  "language_info": {
   "codemirror_mode": {
    "name": "ipython",
    "version": 3
   },
   "file_extension": ".py",
   "mimetype": "text/x-python",
   "name": "python",
   "nbconvert_exporter": "python",
   "pygments_lexer": "ipython3",
   "version": "3.11.6"
  }
 },
 "nbformat": 4,
 "nbformat_minor": 2
}
