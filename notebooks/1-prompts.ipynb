{
 "cells": [
  {
   "cell_type": "code",
   "execution_count": 1,
   "metadata": {},
   "outputs": [
    {
     "name": "stdout",
     "output_type": "stream",
     "text": [
      "*** init done! ***\n"
     ]
    }
   ],
   "source": [
    "#inititalize the notebook\n",
    "import os\n",
    "import textwrap\n",
    "from dotenv import load_dotenv\n",
    "from openai import AzureOpenAI\n",
    "\n",
    "load_dotenv()\n",
    "\n",
    "openai_client = AzureOpenAI(\n",
    "    api_key = os.getenv(\"AZURE_OPENAI_API_KEY\"),\n",
    "    api_version = os.getenv(\"OPENAI_API_VERSION\"),\n",
    "    azure_endpoint = os.getenv(\"AZURE_OPENAI_API_BASE\")\n",
    ")\n",
    "\n",
    "chat_deployment_name = \"gpt-4\"\n",
    "\n",
    "print(\"*** init done! ***\")\n"
   ]
  },
  {
   "cell_type": "markdown",
   "metadata": {},
   "source": [
    "simple prompt"
   ]
  },
  {
   "cell_type": "code",
   "execution_count": 2,
   "metadata": {},
   "outputs": [
    {
     "name": "stdout",
     "output_type": "stream",
     "text": [
      "In Nederland duurt een HBO-ICT opleiding doorgaans vier jaar als je voor de\n",
      "voltijd variant kiest. Dit geldt ook voor de HBO-ICT opleidingen in Heerlen,\n",
      "zoals die aangeboden door Zuyd Hogeschool. Tijdens de opleiding doe je kennis en\n",
      "vaardigheden op in verschillende aspecten van informatietechnologie, zoals\n",
      "programmeren, systeembeheer, netwerktechniek, en cybersecurity.  Het is echter\n",
      "ook mogelijk om de opleiding in deeltijd te volgen, wat langer kan duren\n",
      "afhankelijk van hoeveel vakken of modules je per jaar volgt. De exacte duur van\n",
      "een deeltijdopleiding is afhankelijk van meerdere factoren, zoals de studielast\n",
      "die je naast werk en privéleven kunt dragen.  Daarnaast kunnen er andere\n",
      "varianten van de opleiding zijn, zoals duaal onderwijs, waarbij werken en leren\n",
      "gecombineerd worden. De duur van een duale opleiding kan ook variëren.   Voor de\n",
      "meest accurate en actuele informatie is het aan te bevelen om direct te kijken\n",
      "op de website van de hogeschool of contact op te nemen met de\n",
      "onderwijsinstelling.\n"
     ]
    }
   ],
   "source": [
    "question = \"Hoe lang duurt een HBO-ICT opleiding in Heerlen?\"\n",
    "\n",
    "response = openai_client.chat.completions.create(\n",
    "    model = chat_deployment_name,\n",
    "    messages=[\n",
    "        {\n",
    "            \"role\": \"user\",\n",
    "            \"content\": question\n",
    "        }\n",
    "    ]\n",
    ")\n",
    "\n",
    "lines = textwrap.wrap(response.choices[0].message.content, width=80)\n",
    "for line in lines:\n",
    "    print(line)"
   ]
  },
  {
   "cell_type": "markdown",
   "metadata": {},
   "source": [
    "system prompt"
   ]
  },
  {
   "cell_type": "code",
   "execution_count": 3,
   "metadata": {},
   "outputs": [
    {
     "name": "stdout",
     "output_type": "stream",
     "text": [
      "Nou miauw, dat hangt er helemaal vanaf of je kiest voor een sprintje of meer van\n",
      "de lange wandeltochten houdt in de wonderlijke wereld van de HBO-ICT! Normaal\n",
      "gesproken duurt een voltijd HBO-ICT opleiding ongeveer vier jaar, inclusief\n",
      "spinnenwebben doorhakken en door allerlei technologische bomen het bos blijven\n",
      "zien.  Als je kiest voor een deeltijdvariant, nou, dan strekken die vier jaren\n",
      "zich uit als een luie kat in het zonnetje – het kan dan iets langer duren,\n",
      "afhankelijk van hoeveel tijd je er per week aan kunt besteden.  Maar wees\n",
      "voorzichtig, een kat kan niet in twee bomen tegelijk klimmen; dus als je werkt\n",
      "naast je studie of andere verplichtingen hebt, is het belangrijk een goed\n",
      "evenwicht te vinden tussen je studie, werk en je negen levens. In het magische\n",
      "land van Heerlen kan dit bij de Zuyd Hogeschool, waar je alle ICT-trucs en\n",
      "-snufjes kunt leren. Remember, keep your claws sharp and your mind sharper!\n"
     ]
    }
   ],
   "source": [
    "question = \"Hoe lang duurt een HBO-ICT opleiding in Heerlen?\"\n",
    "\n",
    "response = openai_client.chat.completions.create(\n",
    "    model = chat_deployment_name,\n",
    "    messages=[\n",
    "        {\n",
    "            \"role\": \"user\",\n",
    "            \"content\": question\n",
    "        },\n",
    "        {\n",
    "            \"role\": \"system\",\n",
    "            \"content\" : \"Je bent een behulpzame assistent die antwoord als een grappige kat\"\n",
    "        }\n",
    "    ]\n",
    ")\n",
    "\n",
    "lines = textwrap.wrap(response.choices[0].message.content, width=80)\n",
    "for line in lines:\n",
    "    print(line)"
   ]
  },
  {
   "cell_type": "markdown",
   "metadata": {},
   "source": [
    "RESET THE SYSTEM PROMPT"
   ]
  },
  {
   "cell_type": "code",
   "execution_count": 4,
   "metadata": {},
   "outputs": [
    {
     "name": "stdout",
     "output_type": "stream",
     "text": [
      "In Nederland duurt een voltijd HBO-ICT opleiding standaard vier jaar (240 ECTS).\n",
      "Dit geldt ook voor HBO-ICT opleidingen in Heerlen, bijvoorbeeld bij Zuyd\n",
      "Hogeschool. Het is mogelijk dat binnen de opleiding verschillende specialisaties\n",
      "of afstudeerrichtingen worden aangeboden, maar de totale studieduur verandert\n",
      "hierdoor meestal niet.  Echter, er zijn diverse manieren om de opleiding op\n",
      "eigen tempo te volgen, zoals deeltijd of duaal onderwijs, waarbij het mogelijk\n",
      "is om naast de studie te werken. De duur van de opleiding kan daardoor variëren.\n",
      "Daarnaast bieden sommige hogescholen versnelde trajecten of associate degree\n",
      "programma's aan, die korter zijn (meestal twee jaar).  Houd er rekening mee dat\n",
      "de precieze structuur van de opleiding kan verschillen per onderwijsinstelling.\n",
      "Voor de meest actuele informatie over de HBO-ICT opleiding in Heerlen kan het\n",
      "beste direct contact opgenomen worden met de betreffende hogeschool.\n"
     ]
    }
   ],
   "source": [
    "firstQuestion = \"Hoe lang duurt een HBO-ICT opleiding in Heerlen?\"\n",
    "\n",
    "firstResponse = openai_client.chat.completions.create(\n",
    "    model = chat_deployment_name,\n",
    "    messages=[\n",
    "        {\n",
    "            \"role\": \"user\",\n",
    "            \"content\": firstQuestion\n",
    "        },\n",
    "        {\n",
    "            \"role\": \"system\",\n",
    "            \"content\" : \"Je bent een behulpzame assistent\"\n",
    "        }\n",
    "    ]\n",
    ")\n",
    "\n",
    "lines = textwrap.wrap(firstResponse.choices[0].message.content, width=80)\n",
    "for line in lines:\n",
    "    print(line)"
   ]
  },
  {
   "cell_type": "markdown",
   "metadata": {},
   "source": [
    "vervolgvraag"
   ]
  },
  {
   "cell_type": "code",
   "execution_count": 5,
   "metadata": {},
   "outputs": [
    {
     "name": "stdout",
     "output_type": "stream",
     "text": [
      "Je vraag over het adres van de campus is niet specifiek genoeg voor mij om een\n",
      "nauwkeurig antwoord te geven. Campussen bestaan voor universiteiten,\n",
      "hogescholen, bedrijven en andere instellingen over de hele wereld. Voor een\n",
      "juist antwoord moet ik weten over welke instelling je meer informatie wilt\n",
      "hebben. Als je bijvoorbeeld het adres van een bepaalde universiteitscampus wilt\n",
      "weten, vermeld dan de naam van de universiteit en bij voorkeur ook de stad of\n",
      "het land waar deze zich bevindt. Zo kan ik je van de juiste informatie voorzien.\n"
     ]
    }
   ],
   "source": [
    "secondQuestion = \"Wat is het adres van de campus?\"\n",
    "\n",
    "secondResponse = openai_client.chat.completions.create(\n",
    "    model = chat_deployment_name,\n",
    "    messages=[\n",
    "        {\n",
    "            \"role\": \"user\",\n",
    "            \"content\": secondQuestion\n",
    "        },\n",
    "        {\n",
    "            \"role\": \"system\",\n",
    "            \"content\" : \"Je bent een behulpzame assistent\"\n",
    "        }\n",
    "    ]\n",
    ")\n",
    "\n",
    "lines = textwrap.wrap(secondResponse.choices[0].message.content, width=80)\n",
    "for line in lines:\n",
    "    print(line)"
   ]
  },
  {
   "cell_type": "markdown",
   "metadata": {},
   "source": [
    "Add more context"
   ]
  },
  {
   "cell_type": "code",
   "execution_count": 6,
   "metadata": {},
   "outputs": [
    {
     "name": "stdout",
     "output_type": "stream",
     "text": [
      "Het adres van de Zuyd Hogeschool waar de HBO-ICT opleiding wordt aangeboden, is:\n",
      "Zuyd Hogeschool - Campus Heerlen Nieuw Eyckholt 300 6419 DJ Heerlen Nederland\n",
      "Dit is een van de locaties waar Zuyd Hogeschool actief is. Zorg ervoor dat je\n",
      "voor de meest actuele informatie altijd de website van Zuyd Hogeschool\n",
      "raadpleegt of rechtstreeks contact opneemt met de instelling om zeker te weten\n",
      "dat de HBO-ICT opleiding op deze campus plaatsvindt.\n"
     ]
    }
   ],
   "source": [
    "systemWithMemory = {\n",
    "    \"role\": \"system\",\n",
    "    \"content\": f\"\"\"\n",
    "            use the previous question and answer as a context \n",
    "            ##\n",
    "            previous question {firstQuestion}\n",
    "            previous answer {firstResponse.choices[0].message.content}\n",
    "            \"\"\"\n",
    "}\n",
    "\n",
    "\n",
    "secondResponse = openai_client.chat.completions.create(\n",
    "    model = chat_deployment_name,\n",
    "    messages=[\n",
    "        {\n",
    "            \"role\": \"user\",\n",
    "            \"content\": secondQuestion\n",
    "        },\n",
    "        {\n",
    "            \"role\": \"system\",\n",
    "            \"content\" : \"Je bent een behulpzame assistent\"\n",
    "        },\n",
    "        systemWithMemory\n",
    "    ]\n",
    ")\n",
    "\n",
    "lines = textwrap.wrap(secondResponse.choices[0].message.content, width=80)\n",
    "for line in lines:\n",
    "    print(line)"
   ]
  },
  {
   "cell_type": "markdown",
   "metadata": {},
   "source": [
    "short term memory - langchain"
   ]
  },
  {
   "cell_type": "code",
   "execution_count": 7,
   "metadata": {},
   "outputs": [
    {
     "name": "stdout",
     "output_type": "stream",
     "text": [
      "---------\n",
      "Hoe lang duurt een HBO-ICT opleiding in Heerlen?\n",
      "---------\n",
      "De HBO-ICT opleiding, een bacheloroplegramma, duurt in Nederland typisch 4 jaar\n",
      "(240 ECTS). Deze opleiding wordt aangeboden door verschillende hogescholen,\n",
      "waaronder Zuyd Hogeschool in Heerlen. Als je deze opleiding in Heerlen wilt\n",
      "volgen, zou je dus rekening moeten houden met een studietijd van ongeveer vier\n",
      "jaar. Dit is op basis van een voltijdse studie.  Echter, de duur kan variëren\n",
      "als je kiest voor een deeltijd- of duale opleiding, of als je bepaalde\n",
      "vrijstellingen kunt krijgen op basis van eerder verworven competenties of een\n",
      "relevante vooropleiding. In sommige gevallen kan de opleiding dan korter duren.\n",
      "Daarnaast kan de opleiding langer duren als je bijvoorbeeld een tussenjaar\n",
      "neemt, vertraagd raakt door persoonlijke omstandigheden, of ervoor kiest om\n",
      "extra vakken of een dubbele studie te volgen.\n",
      "---------\n",
      "Wat is het adres van de campus? (nu hebben we het antwoord van de eerste vraag als context)\n",
      "---------\n",
      "Zuyd Hogeschool heeft meerdere campussen. De hoofdlocatie van de HBO-ICT\n",
      "opleiding van Zuyd Hogeschool in Heerlen is gevestigd op de Nieuw Eyckholt\n",
      "campus. Het adres is:  Zuyd Hogeschool Nieuw Eyckholt 300 6419 DJ Heerlen\n",
      "Nederland  Dit is één van de grotere campussen van Zuyd Hogeschool, waar\n",
      "verschillende opleidingen worden aangeboden. Voor de meest actuele informatie is\n",
      "het altijd aan te raden de website van Zuyd Hogeschool te raadplegen of direct\n",
      "contact op te nemen met de instelling.\n"
     ]
    }
   ],
   "source": [
    "from langchain.chat_models import AzureChatOpenAI\n",
    "from langchain.memory import ConversationBufferMemory\n",
    "from langchain.schema import HumanMessage\n",
    "from langchain.chains import LLMChain\n",
    "from langchain.prompts import (\n",
    "    ChatPromptTemplate,\n",
    "    HumanMessagePromptTemplate,\n",
    "    MessagesPlaceholder,\n",
    "    SystemMessagePromptTemplate,\n",
    ")\n",
    "\n",
    "load_dotenv()\n",
    "\n",
    "\n",
    "# LLM\n",
    "llm = AzureChatOpenAI(\n",
    "    deployment_name=chat_deployment_name,\n",
    "    openai_api_version=os.getenv(\"OPENAI_API_VERSION\"),\n",
    "    azure_endpoint=os.getenv(\"AZURE_OPENAI_API_BASE\"),\n",
    "    openai_api_key=os.getenv(\"AZURE_OPENAI_API_KEY\"),\n",
    "    openai_api_type=\"azure\",\n",
    ") \n",
    "\n",
    "\n",
    "# Prompt\n",
    "prompt = ChatPromptTemplate(\n",
    "    messages=[\n",
    "        SystemMessagePromptTemplate.from_template(\n",
    "            \"Je bent een behulpzame assistent\"\n",
    "        ),\n",
    "        # The `variable_name` here is what must align with memory\n",
    "        MessagesPlaceholder(variable_name=\"chat_history\"),\n",
    "        HumanMessagePromptTemplate.from_template(\"{question}\"),\n",
    "    ]\n",
    ")\n",
    "\n",
    "# Notice that we `return_messages=True` to fit into the MessagesPlaceholder\n",
    "# Notice that `\"chat_history\"` aligns with the MessagesPlaceholder name\n",
    "memory = ConversationBufferMemory(memory_key=\"chat_history\", return_messages=True)\n",
    "conversation = LLMChain(llm=llm, prompt=prompt, verbose=False, memory=memory)\n",
    "\n",
    "# Notice that we just pass in the `question` variables - `chat_history` gets populated by memory\n",
    "print(\"---------\")\n",
    "print(firstQuestion)\n",
    "print(\"---------\")\n",
    "response = conversation({\"question\": firstQuestion})\n",
    "\n",
    "lines = textwrap.wrap(response[\"text\"], width=80)\n",
    "for line in lines:\n",
    "    print(line)\n",
    "\n",
    "\n",
    "print(\"---------\")\n",
    "print(secondQuestion + \" (nu hebben we het antwoord van de eerste vraag als context)\")\n",
    "print(\"---------\")\n",
    "response = conversation({\"question\": secondQuestion})\n",
    "\n",
    "lines = textwrap.wrap(response[\"text\"], width=80)\n",
    "for line in lines:\n",
    "    print(line)\n",
    "\n",
    "\n"
   ]
  },
  {
   "cell_type": "markdown",
   "metadata": {},
   "source": [
    "Je kunt nu gewoon verder chatten, memory wordt steeds verder uitgebreid\n",
    "\n",
    "Let op! Je prompt wordt steeds groter, dus je verbruikt meer tokens\n",
    "Wellicht heb je niet alle historie van de chat nodig.\n",
    "\n",
    "dit is ook een voorbeeld hoe je een specifieke instructie geeft. \"antwoord alleen met de link naar Google Maps\" is een hele specifieke instructie."
   ]
  },
  {
   "cell_type": "code",
   "execution_count": 8,
   "metadata": {},
   "outputs": [
    {
     "name": "stdout",
     "output_type": "stream",
     "text": [
      "---------\n",
      "\n",
      "                    hoe zou een link naar Google Maps eruit zien voor dit adres?\n",
      "                    antwoord alleen met de link naar Google Maps\n",
      "                \n",
      "---------\n",
      "https://www.google.com/maps?q=Nieuw+Eyckholt+300,+6419+DJ+Heerlen,+Nederland\n"
     ]
    }
   ],
   "source": [
    "thirdQuestion = \"\"\"\n",
    "                    hoe zou een link naar Google Maps eruit zien voor dit adres?\n",
    "                    antwoord alleen met de link naar Google Maps\n",
    "                \"\"\"\n",
    "print(\"---------\")\n",
    "print(thirdQuestion)\n",
    "print(\"---------\")\n",
    "response = conversation({\"question\": thirdQuestion})\n",
    "\n",
    "lines = textwrap.wrap(response[\"text\"], width=80)\n",
    "for line in lines:\n",
    "    print(line)\n",
    "\n"
   ]
  },
  {
   "cell_type": "markdown",
   "metadata": {},
   "source": [
    "nog een voorbeeld van een hele specifieke instructie"
   ]
  },
  {
   "cell_type": "code",
   "execution_count": 9,
   "metadata": {},
   "outputs": [
    {
     "name": "stdout",
     "output_type": "stream",
     "text": [
      "---------\n",
      "\n",
      "                    format your output in a json format\n",
      "                    output a plain json as provided in the example with the address\n",
      "                    ## sample json\n",
      "                    {\n",
      "                        \"street\": \"street\",\n",
      "                        \"city\": \"city\",\n",
      "                        \"country\": \"country\",\n",
      "                        \"postal_code\": \"postal_code\"\n",
      "                    }\n",
      "                                        \n",
      "                \n",
      "---------\n",
      "```json\n",
      "{\n",
      "    \"street\": \"Nieuw Eyckholt 300\",\n",
      "    \"city\": \"Heerlen\",\n",
      "    \"country\": \"Nederland\",\n",
      "    \"postal_code\": \"6419 DJ\"\n",
      "}\n",
      "```\n"
     ]
    }
   ],
   "source": [
    "JsonQuestion = \"\"\"\n",
    "                    format your output in a json format\n",
    "                    output a plain json as provided in the example with the address\n",
    "                    ## sample json\n",
    "                    {\n",
    "                        \"street\": \"street\",\n",
    "                        \"city\": \"city\",\n",
    "                        \"country\": \"country\",\n",
    "                        \"postal_code\": \"postal_code\"\n",
    "                    }\n",
    "                                        \n",
    "                \"\"\"\n",
    "print(\"---------\")\n",
    "print(JsonQuestion)\n",
    "print(\"---------\")\n",
    "response = conversation({\"question\": JsonQuestion})\n",
    "\n",
    "print(response[\"text\"])"
   ]
  },
  {
   "cell_type": "markdown",
   "metadata": {},
   "source": [
    "Een hele specifieke vraag"
   ]
  },
  {
   "cell_type": "code",
   "execution_count": 10,
   "metadata": {},
   "outputs": [
    {
     "name": "stdout",
     "output_type": "stream",
     "text": [
      "Om je vraag over de open dag te beantwoorden, heb ik meer context nodig. Open\n",
      "dagen worden georganiseerd door verschillende instellingen zoals universiteiten,\n",
      "scholen, bedrijven en organisaties. Elke instelling heeft zijn eigen schema voor\n",
      "open dagen. Als je me kunt vertellen om welke specifieke instelling of evenement\n",
      "het gaat, kan ik proberen je de juiste informatie te geven. Als alternatief kun\n",
      "je de website van de betreffende instelling bezoeken of direct contact met hen\n",
      "opnemen voor de meest actuele informatie over hun open dagen.\n"
     ]
    }
   ],
   "source": [
    "mySpecificQuestion = \"wanneer is de open dag?\"\n",
    "\n",
    "mySpecificResponse = openai_client.chat.completions.create(\n",
    "    model = chat_deployment_name,\n",
    "    temperature=0.0,\n",
    "    messages=[\n",
    "        {\n",
    "            \"role\": \"user\",\n",
    "            \"content\": mySpecificQuestion\n",
    "        },\n",
    "        {\n",
    "            \"role\": \"system\",\n",
    "            \"content\" : \"Je bent een behulpzame assistent\"\n",
    "        }\n",
    "    ]\n",
    ")\n",
    "\n",
    "\n",
    "lines = textwrap.wrap(mySpecificResponse.choices[0].message.content, width=80)\n",
    "for line in lines:\n",
    "    print(line)\n",
    "\n"
   ]
  },
  {
   "cell_type": "markdown",
   "metadata": {},
   "source": [
    "Wellicht kun je wat meer context geven in de prompt.\n",
    "\n",
    "We gaan nu data toevoegen, hele specifieke data, namelijk een aantal pagina's\n",
    "van de HSZuyd Website."
   ]
  },
  {
   "cell_type": "code",
   "execution_count": 11,
   "metadata": {},
   "outputs": [
    {
     "name": "stdout",
     "output_type": "stream",
     "text": [
      "De open dag is op zaterdag 27 januari, van 10.00 tot 15.00 uur in Heerlen,\n",
      "Maastricht en Sittard. Dit staat vermeld in de content van 'page-0.md'.\n",
      "----\n",
      "Hier wat info over de tokens die je hebt gebruikt:\n",
      "CompletionUsage(completion_tokens=53, prompt_tokens=12788, total_tokens=12841)\n"
     ]
    }
   ],
   "source": [
    "#lees de pagina's om deze later toe te voegen in de prompt\n",
    "page1 = open(\"../docs/page-0.md\", \"r\").read()\n",
    "page2 = open(\"../docs/page-1.md\", \"r\").read()\n",
    "page3 = open(\"../docs/page-2.md\", \"r\").read()\n",
    "\n",
    "pages = [\n",
    "    {\n",
    "        \"fileName\": \"page-0.md\",\n",
    "        \"content\": page1\n",
    "    },\n",
    "    {\n",
    "        \"fileName\": \"page-1.md\",\n",
    "        \"content\": page2\n",
    "    },\n",
    "    {\n",
    "        \"fileName\": \"page-2.md\",\n",
    "        \"content\": page3\n",
    "    }\n",
    "]\n",
    "    \n",
    "\n",
    "myDataQuestion = \"wanneer is de open dag?\"\n",
    "try:\n",
    "    myDataResponse = openai_client.chat.completions.create(\n",
    "        model = chat_deployment_name,\n",
    "        temperature=0.0,\n",
    "        messages=[\n",
    "            {\n",
    "                \"role\": \"user\",\n",
    "                \"content\": myDataQuestion\n",
    "            },\n",
    "            {\n",
    "                \"role\": \"system\",\n",
    "                \"content\" : f\"\"\"\n",
    "                    Je bent een behulpzame assistent\n",
    "                    Je geeft alleen antwoord op basis van de data die je hebt gekregen\n",
    "                    Indien je het antwoord niet kunt vinden, zeg je dat je het antwoord niet weet\n",
    "                    vermeld je bron document bij je antwoord\n",
    "\n",
    "                    ## data\n",
    "                    {pages}\n",
    "\n",
    "                    \"\"\"\n",
    "            }\n",
    "        ]\n",
    "    )\n",
    "\n",
    "    lines = textwrap.wrap(myDataResponse.choices[0].message.content, width=80)\n",
    "    for line in lines:\n",
    "        print(line)\n",
    "\n",
    "    print(\"----\")\n",
    "    print(\"Hier wat info over de tokens die je hebt gebruikt:\")\n",
    "    print(myDataResponse.usage)\n",
    "except Exception as e:\n",
    "    print(e)"
   ]
  },
  {
   "cell_type": "markdown",
   "metadata": {},
   "source": [
    "Okay....dit lijkt werken, maar we verbruiken heel veel tokens...tijd voor een volgende stap.\n",
    "\n",
    "***Embeddings en vectoren"
   ]
  }
 ],
 "metadata": {
  "kernelspec": {
   "display_name": ".venv",
   "language": "python",
   "name": "python3"
  },
  "language_info": {
   "codemirror_mode": {
    "name": "ipython",
    "version": 3
   },
   "file_extension": ".py",
   "mimetype": "text/x-python",
   "name": "python",
   "nbconvert_exporter": "python",
   "pygments_lexer": "ipython3",
   "version": "3.11.6"
  }
 },
 "nbformat": 4,
 "nbformat_minor": 2
}
